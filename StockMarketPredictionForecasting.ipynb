{
  "nbformat": 4,
  "nbformat_minor": 0,
  "metadata": {
    "colab": {
      "name": "StockMarketPredictionForecasting.ipynb",
      "provenance": [],
      "collapsed_sections": []
    },
    "kernelspec": {
      "name": "python3",
      "display_name": "Python 3"
    },
    "language_info": {
      "name": "python"
    },
    "accelerator": "GPU"
  },
  "cells": [
    {
      "cell_type": "markdown",
      "metadata": {
        "id": "L2OELUfuUQp1"
      },
      "source": [
        "# Stock Market Prediction and Forecasting Using Stacked LSTM"
      ]
    },
    {
      "cell_type": "code",
      "metadata": {
        "id": "ZXSnigbwT_Tt"
      },
      "source": [
        "# Kearas and Tensorflow > 2.0"
      ],
      "execution_count": 1,
      "outputs": []
    },
    {
      "cell_type": "code",
      "metadata": {
        "id": "Z2pcgyCQUYbt"
      },
      "source": [
        "# Data Collection\n",
        "\n",
        "import pandas_datareader as pdr\n",
        "\n",
        "key =  \"signup_and_get_key_form_tingo\""
      ],
      "execution_count": 2,
      "outputs": []
    },
    {
      "cell_type": "code",
      "metadata": {
        "id": "kR0YJ1bVV_g-"
      },
      "source": [
        "df = pdr.get_data_tiingo('TSLA', api_key = key)"
      ],
      "execution_count": 3,
      "outputs": []
    },
    {
      "cell_type": "code",
      "metadata": {
        "id": "No6ZYdpmWR4o"
      },
      "source": [
        "df.to_csv('TSLA.csv')"
      ],
      "execution_count": 4,
      "outputs": []
    },
    {
      "cell_type": "code",
      "metadata": {
        "id": "L0uFXD6-WT-F"
      },
      "source": [
        "import pandas as pd"
      ],
      "execution_count": 5,
      "outputs": []
    },
    {
      "cell_type": "code",
      "metadata": {
        "id": "OTn5FzCXWVhx"
      },
      "source": [
        "df = pd.read_csv('TSLA.csv')"
      ],
      "execution_count": 6,
      "outputs": []
    },
    {
      "cell_type": "code",
      "metadata": {
        "colab": {
          "base_uri": "https://localhost:8080/",
          "height": 195
        },
        "id": "P04vdqCOWX9Y",
        "outputId": "f1851f1f-e237-4ac1-d673-1a462320f420"
      },
      "source": [
        "df.head()"
      ],
      "execution_count": 8,
      "outputs": [
        {
          "output_type": "execute_result",
          "data": {
            "text/html": [
              "<div>\n",
              "<style scoped>\n",
              "    .dataframe tbody tr th:only-of-type {\n",
              "        vertical-align: middle;\n",
              "    }\n",
              "\n",
              "    .dataframe tbody tr th {\n",
              "        vertical-align: top;\n",
              "    }\n",
              "\n",
              "    .dataframe thead th {\n",
              "        text-align: right;\n",
              "    }\n",
              "</style>\n",
              "<table border=\"1\" class=\"dataframe\">\n",
              "  <thead>\n",
              "    <tr style=\"text-align: right;\">\n",
              "      <th></th>\n",
              "      <th>symbol</th>\n",
              "      <th>date</th>\n",
              "      <th>close</th>\n",
              "      <th>high</th>\n",
              "      <th>low</th>\n",
              "      <th>open</th>\n",
              "      <th>volume</th>\n",
              "      <th>adjClose</th>\n",
              "      <th>adjHigh</th>\n",
              "      <th>adjLow</th>\n",
              "      <th>adjOpen</th>\n",
              "      <th>adjVolume</th>\n",
              "      <th>divCash</th>\n",
              "      <th>splitFactor</th>\n",
              "    </tr>\n",
              "  </thead>\n",
              "  <tbody>\n",
              "    <tr>\n",
              "      <th>0</th>\n",
              "      <td>TSLA</td>\n",
              "      <td>2016-05-02 00:00:00+00:00</td>\n",
              "      <td>241.80</td>\n",
              "      <td>243.19</td>\n",
              "      <td>234.82</td>\n",
              "      <td>241.50</td>\n",
              "      <td>3843935</td>\n",
              "      <td>48.360</td>\n",
              "      <td>48.638</td>\n",
              "      <td>46.964</td>\n",
              "      <td>48.300</td>\n",
              "      <td>19219675</td>\n",
              "      <td>0.0</td>\n",
              "      <td>1.0</td>\n",
              "    </tr>\n",
              "    <tr>\n",
              "      <th>1</th>\n",
              "      <td>TSLA</td>\n",
              "      <td>2016-05-03 00:00:00+00:00</td>\n",
              "      <td>232.32</td>\n",
              "      <td>238.91</td>\n",
              "      <td>231.62</td>\n",
              "      <td>237.36</td>\n",
              "      <td>4302222</td>\n",
              "      <td>46.464</td>\n",
              "      <td>47.782</td>\n",
              "      <td>46.324</td>\n",
              "      <td>47.472</td>\n",
              "      <td>21511110</td>\n",
              "      <td>0.0</td>\n",
              "      <td>1.0</td>\n",
              "    </tr>\n",
              "    <tr>\n",
              "      <th>2</th>\n",
              "      <td>TSLA</td>\n",
              "      <td>2016-05-04 00:00:00+00:00</td>\n",
              "      <td>222.56</td>\n",
              "      <td>234.46</td>\n",
              "      <td>220.40</td>\n",
              "      <td>230.29</td>\n",
              "      <td>8700459</td>\n",
              "      <td>44.512</td>\n",
              "      <td>46.892</td>\n",
              "      <td>44.080</td>\n",
              "      <td>46.058</td>\n",
              "      <td>43502295</td>\n",
              "      <td>0.0</td>\n",
              "      <td>1.0</td>\n",
              "    </tr>\n",
              "    <tr>\n",
              "      <th>3</th>\n",
              "      <td>TSLA</td>\n",
              "      <td>2016-05-05 00:00:00+00:00</td>\n",
              "      <td>211.53</td>\n",
              "      <td>228.64</td>\n",
              "      <td>209.79</td>\n",
              "      <td>228.46</td>\n",
              "      <td>11254827</td>\n",
              "      <td>42.306</td>\n",
              "      <td>45.728</td>\n",
              "      <td>41.958</td>\n",
              "      <td>45.692</td>\n",
              "      <td>56274135</td>\n",
              "      <td>0.0</td>\n",
              "      <td>1.0</td>\n",
              "    </tr>\n",
              "    <tr>\n",
              "      <th>4</th>\n",
              "      <td>TSLA</td>\n",
              "      <td>2016-05-06 00:00:00+00:00</td>\n",
              "      <td>214.93</td>\n",
              "      <td>216.37</td>\n",
              "      <td>208.11</td>\n",
              "      <td>210.87</td>\n",
              "      <td>5685237</td>\n",
              "      <td>42.986</td>\n",
              "      <td>43.274</td>\n",
              "      <td>41.622</td>\n",
              "      <td>42.174</td>\n",
              "      <td>28426185</td>\n",
              "      <td>0.0</td>\n",
              "      <td>1.0</td>\n",
              "    </tr>\n",
              "  </tbody>\n",
              "</table>\n",
              "</div>"
            ],
            "text/plain": [
              "  symbol                       date   close  ...  adjVolume  divCash  splitFactor\n",
              "0   TSLA  2016-05-02 00:00:00+00:00  241.80  ...   19219675      0.0          1.0\n",
              "1   TSLA  2016-05-03 00:00:00+00:00  232.32  ...   21511110      0.0          1.0\n",
              "2   TSLA  2016-05-04 00:00:00+00:00  222.56  ...   43502295      0.0          1.0\n",
              "3   TSLA  2016-05-05 00:00:00+00:00  211.53  ...   56274135      0.0          1.0\n",
              "4   TSLA  2016-05-06 00:00:00+00:00  214.93  ...   28426185      0.0          1.0\n",
              "\n",
              "[5 rows x 14 columns]"
            ]
          },
          "metadata": {
            "tags": []
          },
          "execution_count": 8
        }
      ]
    },
    {
      "cell_type": "code",
      "metadata": {
        "colab": {
          "base_uri": "https://localhost:8080/",
          "height": 195
        },
        "id": "wwt61EYKWYap",
        "outputId": "a73149ba-a121-4b12-d2fd-093159ccacb4"
      },
      "source": [
        "df.tail()"
      ],
      "execution_count": 9,
      "outputs": [
        {
          "output_type": "execute_result",
          "data": {
            "text/html": [
              "<div>\n",
              "<style scoped>\n",
              "    .dataframe tbody tr th:only-of-type {\n",
              "        vertical-align: middle;\n",
              "    }\n",
              "\n",
              "    .dataframe tbody tr th {\n",
              "        vertical-align: top;\n",
              "    }\n",
              "\n",
              "    .dataframe thead th {\n",
              "        text-align: right;\n",
              "    }\n",
              "</style>\n",
              "<table border=\"1\" class=\"dataframe\">\n",
              "  <thead>\n",
              "    <tr style=\"text-align: right;\">\n",
              "      <th></th>\n",
              "      <th>symbol</th>\n",
              "      <th>date</th>\n",
              "      <th>close</th>\n",
              "      <th>high</th>\n",
              "      <th>low</th>\n",
              "      <th>open</th>\n",
              "      <th>volume</th>\n",
              "      <th>adjClose</th>\n",
              "      <th>adjHigh</th>\n",
              "      <th>adjLow</th>\n",
              "      <th>adjOpen</th>\n",
              "      <th>adjVolume</th>\n",
              "      <th>divCash</th>\n",
              "      <th>splitFactor</th>\n",
              "    </tr>\n",
              "  </thead>\n",
              "  <tbody>\n",
              "    <tr>\n",
              "      <th>1253</th>\n",
              "      <td>TSLA</td>\n",
              "      <td>2021-04-23 00:00:00+00:00</td>\n",
              "      <td>729.40</td>\n",
              "      <td>737.36</td>\n",
              "      <td>715.4600</td>\n",
              "      <td>719.80</td>\n",
              "      <td>28413889</td>\n",
              "      <td>729.40</td>\n",
              "      <td>737.36</td>\n",
              "      <td>715.4600</td>\n",
              "      <td>719.80</td>\n",
              "      <td>28413889</td>\n",
              "      <td>0.0</td>\n",
              "      <td>1.0</td>\n",
              "    </tr>\n",
              "    <tr>\n",
              "      <th>1254</th>\n",
              "      <td>TSLA</td>\n",
              "      <td>2021-04-26 00:00:00+00:00</td>\n",
              "      <td>738.20</td>\n",
              "      <td>749.30</td>\n",
              "      <td>732.6053</td>\n",
              "      <td>741.00</td>\n",
              "      <td>31038502</td>\n",
              "      <td>738.20</td>\n",
              "      <td>749.30</td>\n",
              "      <td>732.6053</td>\n",
              "      <td>741.00</td>\n",
              "      <td>31038502</td>\n",
              "      <td>0.0</td>\n",
              "      <td>1.0</td>\n",
              "    </tr>\n",
              "    <tr>\n",
              "      <th>1255</th>\n",
              "      <td>TSLA</td>\n",
              "      <td>2021-04-27 00:00:00+00:00</td>\n",
              "      <td>704.74</td>\n",
              "      <td>724.00</td>\n",
              "      <td>703.3501</td>\n",
              "      <td>717.96</td>\n",
              "      <td>29436995</td>\n",
              "      <td>704.74</td>\n",
              "      <td>724.00</td>\n",
              "      <td>703.3501</td>\n",
              "      <td>717.96</td>\n",
              "      <td>29436995</td>\n",
              "      <td>0.0</td>\n",
              "      <td>1.0</td>\n",
              "    </tr>\n",
              "    <tr>\n",
              "      <th>1256</th>\n",
              "      <td>TSLA</td>\n",
              "      <td>2021-04-28 00:00:00+00:00</td>\n",
              "      <td>694.40</td>\n",
              "      <td>708.50</td>\n",
              "      <td>693.6000</td>\n",
              "      <td>696.41</td>\n",
              "      <td>22271047</td>\n",
              "      <td>694.40</td>\n",
              "      <td>708.50</td>\n",
              "      <td>693.6000</td>\n",
              "      <td>696.41</td>\n",
              "      <td>22271047</td>\n",
              "      <td>0.0</td>\n",
              "      <td>1.0</td>\n",
              "    </tr>\n",
              "    <tr>\n",
              "      <th>1257</th>\n",
              "      <td>TSLA</td>\n",
              "      <td>2021-04-29 00:00:00+00:00</td>\n",
              "      <td>677.00</td>\n",
              "      <td>702.25</td>\n",
              "      <td>668.5002</td>\n",
              "      <td>699.51</td>\n",
              "      <td>28845449</td>\n",
              "      <td>677.00</td>\n",
              "      <td>702.25</td>\n",
              "      <td>668.5002</td>\n",
              "      <td>699.51</td>\n",
              "      <td>28845449</td>\n",
              "      <td>0.0</td>\n",
              "      <td>1.0</td>\n",
              "    </tr>\n",
              "  </tbody>\n",
              "</table>\n",
              "</div>"
            ],
            "text/plain": [
              "     symbol                       date   close  ...  adjVolume  divCash  splitFactor\n",
              "1253   TSLA  2021-04-23 00:00:00+00:00  729.40  ...   28413889      0.0          1.0\n",
              "1254   TSLA  2021-04-26 00:00:00+00:00  738.20  ...   31038502      0.0          1.0\n",
              "1255   TSLA  2021-04-27 00:00:00+00:00  704.74  ...   29436995      0.0          1.0\n",
              "1256   TSLA  2021-04-28 00:00:00+00:00  694.40  ...   22271047      0.0          1.0\n",
              "1257   TSLA  2021-04-29 00:00:00+00:00  677.00  ...   28845449      0.0          1.0\n",
              "\n",
              "[5 rows x 14 columns]"
            ]
          },
          "metadata": {
            "tags": []
          },
          "execution_count": 9
        }
      ]
    },
    {
      "cell_type": "code",
      "metadata": {
        "id": "LxUoDvodWbll"
      },
      "source": [
        "df1 = df.reset_index()['close']"
      ],
      "execution_count": 10,
      "outputs": []
    },
    {
      "cell_type": "code",
      "metadata": {
        "colab": {
          "base_uri": "https://localhost:8080/"
        },
        "id": "qy3gCb1hWg9c",
        "outputId": "9b4a9916-960a-48a0-9c2f-dcca08c39473"
      },
      "source": [
        "df1"
      ],
      "execution_count": 11,
      "outputs": [
        {
          "output_type": "execute_result",
          "data": {
            "text/plain": [
              "0       241.80\n",
              "1       232.32\n",
              "2       222.56\n",
              "3       211.53\n",
              "4       214.93\n",
              "         ...  \n",
              "1253    729.40\n",
              "1254    738.20\n",
              "1255    704.74\n",
              "1256    694.40\n",
              "1257    677.00\n",
              "Name: close, Length: 1258, dtype: float64"
            ]
          },
          "metadata": {
            "tags": []
          },
          "execution_count": 11
        }
      ]
    },
    {
      "cell_type": "code",
      "metadata": {
        "id": "8ueQB1ZLWhbw"
      },
      "source": [
        "# Plotting the stock graphs\n",
        "\n",
        "import matplotlib.pyplot as plt"
      ],
      "execution_count": 12,
      "outputs": []
    },
    {
      "cell_type": "code",
      "metadata": {
        "colab": {
          "base_uri": "https://localhost:8080/",
          "height": 592
        },
        "id": "KXfym9RWWmt4",
        "outputId": "79af934f-80fd-46b1-a45e-14671dca6089"
      },
      "source": [
        "plt.figure(figsize = (12,10))\n",
        "plt.plot(df1);"
      ],
      "execution_count": 14,
      "outputs": [
        {
          "output_type": "display_data",
          "data": {
            "image/png": "[encoded data removed]",
            "text/plain": [
              "<Figure size 864x720 with 1 Axes>"
            ]
          },
          "metadata": {
            "tags": [],
            "needs_background": "light"
          }
        }
      ]
    },
    {
      "cell_type": "code",
      "metadata": {
        "id": "Ioexj_9WWn34"
      },
      "source": [
        "# Since LSTM are senstive to the scale of the data, so we apply MinMax scaler"
      ],
      "execution_count": 15,
      "outputs": []
    },
    {
      "cell_type": "code",
      "metadata": {
        "id": "Ixzc7d3uW1sd"
      },
      "source": [
        "import numpy as np"
      ],
      "execution_count": 16,
      "outputs": []
    },
    {
      "cell_type": "code",
      "metadata": {
        "colab": {
          "base_uri": "https://localhost:8080/"
        },
        "id": "nW_2QF1lW2yV",
        "outputId": "41767ab3-01b3-4b0f-e8ba-4b2b4331ed0d"
      },
      "source": [
        "df1"
      ],
      "execution_count": 17,
      "outputs": [
        {
          "output_type": "execute_result",
          "data": {
            "text/plain": [
              "0       241.80\n",
              "1       232.32\n",
              "2       222.56\n",
              "3       211.53\n",
              "4       214.93\n",
              "         ...  \n",
              "1253    729.40\n",
              "1254    738.20\n",
              "1255    704.74\n",
              "1256    694.40\n",
              "1257    677.00\n",
              "Name: close, Length: 1258, dtype: float64"
            ]
          },
          "metadata": {
            "tags": []
          },
          "execution_count": 17
        }
      ]
    },
    {
      "cell_type": "code",
      "metadata": {
        "id": "oObXbNc8W3Gs"
      },
      "source": [
        "from sklearn.preprocessing import MinMaxScaler\n",
        "scaler = MinMaxScaler(feature_range = (0,1))\n",
        "df1 = scaler.fit_transform(np.array(df1).reshape(-1,1))"
      ],
      "execution_count": 19,
      "outputs": []
    },
    {
      "cell_type": "code",
      "metadata": {
        "colab": {
          "base_uri": "https://localhost:8080/"
        },
        "id": "NluoU11dXBQ9",
        "outputId": "a25cbd96-c1e4-4a4c-e9bd-d452db9014fb"
      },
      "source": [
        "print(df1)"
      ],
      "execution_count": 20,
      "outputs": [
        {
          "output_type": "stream",
          "text": [
            "[[0.03050326]\n",
            " [0.02590082]\n",
            " [0.02116245]\n",
            " ...\n",
            " [0.25525542]\n",
            " [0.25023546]\n",
            " [0.24178796]]\n"
          ],
          "name": "stdout"
        }
      ]
    },
    {
      "cell_type": "code",
      "metadata": {
        "id": "__SP7KnwXDpM"
      },
      "source": [
        "# Splitting the dataset into train and test split\n",
        "\n",
        "train_size = int(len(df1) * 0.65)\n",
        "test_size = len(df1) - train_size\n",
        "\n",
        "train_data, test_data = df1[0:train_size,:], df1[train_size: len(df1),:1]"
      ],
      "execution_count": 22,
      "outputs": []
    },
    {
      "cell_type": "code",
      "metadata": {
        "colab": {
          "base_uri": "https://localhost:8080/"
        },
        "id": "Yt0k-QfIXU79",
        "outputId": "bbb8fcab-1765-4d62-81bf-c7f99406bd8e"
      },
      "source": [
        "train_data.shape, test_data.shape"
      ],
      "execution_count": 23,
      "outputs": [
        {
          "output_type": "execute_result",
          "data": {
            "text/plain": [
              "((817, 1), (441, 1))"
            ]
          },
          "metadata": {
            "tags": []
          },
          "execution_count": 23
        }
      ]
    },
    {
      "cell_type": "code",
      "metadata": {
        "id": "MWV7OUhGXckd"
      },
      "source": [
        "import numpy \n",
        "\n",
        "\n",
        "# convert an array of values into a dataset matrix\n",
        "\n",
        "def create_dataset(dataset, time_step = 1):\n",
        "  dataX, dataY = [], []\n",
        "  for i in range(len(dataset) - time_step - 1):\n",
        "    a = dataset[i: (i+ time_step), 0]  ## i = 0,  0,1,2,3----99     100\n",
        "    dataX.append(a)\n",
        "    dataY.append(dataset[i + time_step, 0])\n",
        "  return numpy.array(dataX), numpy.array(dataY)"
      ],
      "execution_count": 25,
      "outputs": []
    },
    {
      "cell_type": "code",
      "metadata": {
        "id": "ytmfFehmX4Ay"
      },
      "source": [
        "# reshape into X = t, t+1, t+2, t+3 and y = t + 4\n",
        "\n",
        "time_step = 100\n",
        "X_train, y_train = create_dataset(train_data, time_step)\n",
        "X_test, y_test = create_dataset(test_data, time_step)"
      ],
      "execution_count": 26,
      "outputs": []
    },
    {
      "cell_type": "code",
      "metadata": {
        "colab": {
          "base_uri": "https://localhost:8080/"
        },
        "id": "syZlRIg1YRDq",
        "outputId": "9b564087-a66f-4214-8095-e1f554c35433"
      },
      "source": [
        "X_train.shape, y_train.shape, X_test.shape, y_test.shape"
      ],
      "execution_count": 28,
      "outputs": [
        {
          "output_type": "execute_result",
          "data": {
            "text/plain": [
              "((716, 100), (716,), (340, 100), (340,))"
            ]
          },
          "metadata": {
            "tags": []
          },
          "execution_count": 28
        }
      ]
    },
    {
      "cell_type": "code",
      "metadata": {
        "colab": {
          "base_uri": "https://localhost:8080/"
        },
        "id": "a1Y_m8hQYTeC",
        "outputId": "8f091d28-3a75-4795-97aa-8f87e29b8845"
      },
      "source": [
        "X_train"
      ],
      "execution_count": 29,
      "outputs": [
        {
          "output_type": "execute_result",
          "data": {
            "text/plain": [
              "array([[0.03050326, 0.02590082, 0.02116245, ..., 0.01328783, 0.0124625 ,\n",
              "        0.01274408],\n",
              "       [0.02590082, 0.02116245, 0.01580751, ..., 0.0124625 , 0.01274408,\n",
              "        0.01333152],\n",
              "       [0.02116245, 0.01580751, 0.01745818, ..., 0.01274408, 0.01333152,\n",
              "        0.01382672],\n",
              "       ...,\n",
              "       [0.05165115, 0.04736914, 0.04722349, ..., 0.03724184, 0.03942169,\n",
              "        0.04170834],\n",
              "       [0.04736914, 0.04722349, 0.04739341, ..., 0.03942169, 0.04170834,\n",
              "        0.02420161],\n",
              "       [0.04722349, 0.04739341, 0.05105885, ..., 0.04170834, 0.02420161,\n",
              "        0.02382293]])"
            ]
          },
          "metadata": {
            "tags": []
          },
          "execution_count": 29
        }
      ]
    },
    {
      "cell_type": "code",
      "metadata": {
        "id": "M05QwoYyYbqV"
      },
      "source": [
        "# Reshape input to be [samples, time steps, features] which is required for LSTM\n",
        "\n",
        "X_train = X_train.reshape(X_train.shape[0], X_train.shape[1], 1)\n",
        "X_test = X_test.reshape(X_test.shape[0], X_test.shape[1], 1)"
      ],
      "execution_count": 30,
      "outputs": []
    },
    {
      "cell_type": "code",
      "metadata": {
        "id": "UqIyqvRGYq8l"
      },
      "source": [
        "# Create the stacked LSTM model\n",
        "\n",
        "from tensorflow.keras.models import Sequential\n",
        "from tensorflow.keras.layers import Dense\n",
        "from tensorflow.keras.layers import LSTM"
      ],
      "execution_count": 31,
      "outputs": []
    },
    {
      "cell_type": "code",
      "metadata": {
        "id": "A0y1e9z-Y0CB"
      },
      "source": [
        "model = Sequential()\n",
        "model.add(LSTM(50, return_sequences = True, input_shape = (100,1)))\n",
        "model.add(LSTM(50, return_sequences = True))\n",
        "model.add(LSTM(50))\n",
        "model.add(Dense(1))\n",
        "model.compile(loss = 'mean_squared_error', optimizer= 'adam')"
      ],
      "execution_count": 33,
      "outputs": []
    },
    {
      "cell_type": "code",
      "metadata": {
        "colab": {
          "base_uri": "https://localhost:8080/"
        },
        "id": "r6ycERIAZHM1",
        "outputId": "c75e9afa-156f-440a-ee06-44c6bbed63f7"
      },
      "source": [
        "model.summary()"
      ],
      "execution_count": 34,
      "outputs": [
        {
          "output_type": "stream",
          "text": [
            "Model: \"sequential_1\"\n",
            "_________________________________________________________________\n",
            "Layer (type)                 Output Shape              Param #   \n",
            "=================================================================\n",
            "lstm_2 (LSTM)                (None, 100, 50)           10400     \n",
            "_________________________________________________________________\n",
            "lstm_3 (LSTM)                (None, 100, 50)           20200     \n",
            "_________________________________________________________________\n",
            "lstm_4 (LSTM)                (None, 50)                20200     \n",
            "_________________________________________________________________\n",
            "dense (Dense)                (None, 1)                 51        \n",
            "=================================================================\n",
            "Total params: 50,851\n",
            "Trainable params: 50,851\n",
            "Non-trainable params: 0\n",
            "_________________________________________________________________\n"
          ],
          "name": "stdout"
        }
      ]
    },
    {
      "cell_type": "code",
      "metadata": {
        "colab": {
          "base_uri": "https://localhost:8080/"
        },
        "id": "7eY7X1xqZIl5",
        "outputId": "49312dd3-cbad-4a3e-95c8-d72492d7ff36"
      },
      "source": [
        "model.fit(X_train, y_train, validation_data = (X_test, y_test), epochs = 100, batch_size = 64, verbose = 1)"
      ],
      "execution_count": 35,
      "outputs": [
        {
          "output_type": "stream",
          "text": [
            "Epoch 1/100\n",
            "12/12 [==============================] - 36s 116ms/step - loss: 0.0018 - val_loss: 0.0613\n",
            "Epoch 2/100\n",
            "12/12 [==============================] - 0s 24ms/step - loss: 4.5922e-04 - val_loss: 0.0389\n",
            "Epoch 3/100\n",
            "12/12 [==============================] - 0s 18ms/step - loss: 2.9999e-04 - val_loss: 0.0191\n",
            "Epoch 4/100\n",
            "12/12 [==============================] - 0s 18ms/step - loss: 1.6017e-04 - val_loss: 0.0176\n",
            "Epoch 5/100\n",
            "12/12 [==============================] - 0s 17ms/step - loss: 1.6890e-04 - val_loss: 0.0173\n",
            "Epoch 6/100\n",
            "12/12 [==============================] - 0s 18ms/step - loss: 1.1613e-04 - val_loss: 0.0157\n",
            "Epoch 7/100\n",
            "12/12 [==============================] - 0s 17ms/step - loss: 1.1840e-04 - val_loss: 0.0153\n",
            "Epoch 8/100\n",
            "12/12 [==============================] - 0s 17ms/step - loss: 1.0445e-04 - val_loss: 0.0152\n",
            "Epoch 9/100\n",
            "12/12 [==============================] - 0s 18ms/step - loss: 1.0336e-04 - val_loss: 0.0145\n",
            "Epoch 10/100\n",
            "12/12 [==============================] - 0s 18ms/step - loss: 9.8660e-05 - val_loss: 0.0144\n",
            "Epoch 11/100\n",
            "12/12 [==============================] - 0s 18ms/step - loss: 1.0497e-04 - val_loss: 0.0137\n",
            "Epoch 12/100\n",
            "12/12 [==============================] - 0s 18ms/step - loss: 9.2011e-05 - val_loss: 0.0134\n",
            "Epoch 13/100\n",
            "12/12 [==============================] - 0s 18ms/step - loss: 9.4567e-05 - val_loss: 0.0139\n",
            "Epoch 14/100\n",
            "12/12 [==============================] - 0s 18ms/step - loss: 1.2558e-04 - val_loss: 0.0136\n",
            "Epoch 15/100\n",
            "12/12 [==============================] - 0s 18ms/step - loss: 1.2294e-04 - val_loss: 0.0121\n",
            "Epoch 16/100\n",
            "12/12 [==============================] - 0s 18ms/step - loss: 1.3277e-04 - val_loss: 0.0126\n",
            "Epoch 17/100\n",
            "12/12 [==============================] - 0s 18ms/step - loss: 9.1344e-05 - val_loss: 0.0128\n",
            "Epoch 18/100\n",
            "12/12 [==============================] - 0s 18ms/step - loss: 8.6084e-05 - val_loss: 0.0124\n",
            "Epoch 19/100\n",
            "12/12 [==============================] - 0s 19ms/step - loss: 8.4647e-05 - val_loss: 0.0126\n",
            "Epoch 20/100\n",
            "12/12 [==============================] - 0s 18ms/step - loss: 8.6900e-05 - val_loss: 0.0116\n",
            "Epoch 21/100\n",
            "12/12 [==============================] - 0s 18ms/step - loss: 8.0242e-05 - val_loss: 0.0122\n",
            "Epoch 22/100\n",
            "12/12 [==============================] - 0s 17ms/step - loss: 7.6617e-05 - val_loss: 0.0116\n",
            "Epoch 23/100\n",
            "12/12 [==============================] - 0s 18ms/step - loss: 7.7507e-05 - val_loss: 0.0115\n",
            "Epoch 24/100\n",
            "12/12 [==============================] - 0s 19ms/step - loss: 7.4954e-05 - val_loss: 0.0123\n",
            "Epoch 25/100\n",
            "12/12 [==============================] - 0s 18ms/step - loss: 8.3644e-05 - val_loss: 0.0114\n",
            "Epoch 26/100\n",
            "12/12 [==============================] - 0s 18ms/step - loss: 8.1303e-05 - val_loss: 0.0111\n",
            "Epoch 27/100\n",
            "12/12 [==============================] - 0s 17ms/step - loss: 6.7300e-05 - val_loss: 0.0131\n",
            "Epoch 28/100\n",
            "12/12 [==============================] - 0s 17ms/step - loss: 8.5218e-05 - val_loss: 0.0111\n",
            "Epoch 29/100\n",
            "12/12 [==============================] - 0s 18ms/step - loss: 7.4105e-05 - val_loss: 0.0111\n",
            "Epoch 30/100\n",
            "12/12 [==============================] - 0s 18ms/step - loss: 5.5402e-05 - val_loss: 0.0115\n",
            "Epoch 31/100\n",
            "12/12 [==============================] - 0s 17ms/step - loss: 6.6579e-05 - val_loss: 0.0109\n",
            "Epoch 32/100\n",
            "12/12 [==============================] - 0s 18ms/step - loss: 6.1875e-05 - val_loss: 0.0115\n",
            "Epoch 33/100\n",
            "12/12 [==============================] - 0s 18ms/step - loss: 5.7883e-05 - val_loss: 0.0107\n",
            "Epoch 34/100\n",
            "12/12 [==============================] - 0s 18ms/step - loss: 6.0695e-05 - val_loss: 0.0116\n",
            "Epoch 35/100\n",
            "12/12 [==============================] - 0s 18ms/step - loss: 5.6247e-05 - val_loss: 0.0110\n",
            "Epoch 36/100\n",
            "12/12 [==============================] - 0s 18ms/step - loss: 5.8628e-05 - val_loss: 0.0118\n",
            "Epoch 37/100\n",
            "12/12 [==============================] - 0s 17ms/step - loss: 5.7746e-05 - val_loss: 0.0115\n",
            "Epoch 38/100\n",
            "12/12 [==============================] - 0s 18ms/step - loss: 6.3698e-05 - val_loss: 0.0101\n",
            "Epoch 39/100\n",
            "12/12 [==============================] - 0s 18ms/step - loss: 6.1527e-05 - val_loss: 0.0113\n",
            "Epoch 40/100\n",
            "12/12 [==============================] - 0s 17ms/step - loss: 5.3570e-05 - val_loss: 0.0115\n",
            "Epoch 41/100\n",
            "12/12 [==============================] - 0s 18ms/step - loss: 6.0281e-05 - val_loss: 0.0098\n",
            "Epoch 42/100\n",
            "12/12 [==============================] - 0s 18ms/step - loss: 5.8650e-05 - val_loss: 0.0116\n",
            "Epoch 43/100\n",
            "12/12 [==============================] - 0s 17ms/step - loss: 4.9164e-05 - val_loss: 0.0103\n",
            "Epoch 44/100\n",
            "12/12 [==============================] - 0s 19ms/step - loss: 4.7448e-05 - val_loss: 0.0114\n",
            "Epoch 45/100\n",
            "12/12 [==============================] - 0s 18ms/step - loss: 4.6455e-05 - val_loss: 0.0120\n",
            "Epoch 46/100\n",
            "12/12 [==============================] - 0s 17ms/step - loss: 5.4193e-05 - val_loss: 0.0101\n",
            "Epoch 47/100\n",
            "12/12 [==============================] - 0s 18ms/step - loss: 5.0058e-05 - val_loss: 0.0120\n",
            "Epoch 48/100\n",
            "12/12 [==============================] - 0s 18ms/step - loss: 4.2253e-05 - val_loss: 0.0098\n",
            "Epoch 49/100\n",
            "12/12 [==============================] - 0s 18ms/step - loss: 4.0201e-05 - val_loss: 0.0104\n",
            "Epoch 50/100\n",
            "12/12 [==============================] - 0s 18ms/step - loss: 4.1978e-05 - val_loss: 0.0099\n",
            "Epoch 51/100\n",
            "12/12 [==============================] - 0s 18ms/step - loss: 4.4035e-05 - val_loss: 0.0099\n",
            "Epoch 52/100\n",
            "12/12 [==============================] - 0s 18ms/step - loss: 4.3537e-05 - val_loss: 0.0096\n",
            "Epoch 53/100\n",
            "12/12 [==============================] - 0s 19ms/step - loss: 4.4070e-05 - val_loss: 0.0101\n",
            "Epoch 54/100\n",
            "12/12 [==============================] - 0s 17ms/step - loss: 4.4643e-05 - val_loss: 0.0108\n",
            "Epoch 55/100\n",
            "12/12 [==============================] - 0s 17ms/step - loss: 4.4238e-05 - val_loss: 0.0106\n",
            "Epoch 56/100\n",
            "12/12 [==============================] - 0s 17ms/step - loss: 4.3583e-05 - val_loss: 0.0104\n",
            "Epoch 57/100\n",
            "12/12 [==============================] - 0s 18ms/step - loss: 3.4157e-05 - val_loss: 0.0104\n",
            "Epoch 58/100\n",
            "12/12 [==============================] - 0s 18ms/step - loss: 3.8958e-05 - val_loss: 0.0110\n",
            "Epoch 59/100\n",
            "12/12 [==============================] - 0s 17ms/step - loss: 3.6646e-05 - val_loss: 0.0103\n",
            "Epoch 60/100\n",
            "12/12 [==============================] - 0s 17ms/step - loss: 3.8849e-05 - val_loss: 0.0100\n",
            "Epoch 61/100\n",
            "12/12 [==============================] - 0s 18ms/step - loss: 3.8569e-05 - val_loss: 0.0110\n",
            "Epoch 62/100\n",
            "12/12 [==============================] - 0s 18ms/step - loss: 4.3729e-05 - val_loss: 0.0104\n",
            "Epoch 63/100\n",
            "12/12 [==============================] - 0s 18ms/step - loss: 3.3918e-05 - val_loss: 0.0109\n",
            "Epoch 64/100\n",
            "12/12 [==============================] - 0s 17ms/step - loss: 3.9416e-05 - val_loss: 0.0098\n",
            "Epoch 65/100\n",
            "12/12 [==============================] - 0s 18ms/step - loss: 3.7366e-05 - val_loss: 0.0116\n",
            "Epoch 66/100\n",
            "12/12 [==============================] - 0s 18ms/step - loss: 3.7014e-05 - val_loss: 0.0095\n",
            "Epoch 67/100\n",
            "12/12 [==============================] - 0s 18ms/step - loss: 3.7779e-05 - val_loss: 0.0118\n",
            "Epoch 68/100\n",
            "12/12 [==============================] - 0s 17ms/step - loss: 4.0297e-05 - val_loss: 0.0109\n",
            "Epoch 69/100\n",
            "12/12 [==============================] - 0s 17ms/step - loss: 3.4670e-05 - val_loss: 0.0094\n",
            "Epoch 70/100\n",
            "12/12 [==============================] - 0s 18ms/step - loss: 3.2631e-05 - val_loss: 0.0107\n",
            "Epoch 71/100\n",
            "12/12 [==============================] - 0s 18ms/step - loss: 3.0173e-05 - val_loss: 0.0106\n",
            "Epoch 72/100\n",
            "12/12 [==============================] - 0s 18ms/step - loss: 3.3718e-05 - val_loss: 0.0101\n",
            "Epoch 73/100\n",
            "12/12 [==============================] - 0s 18ms/step - loss: 3.1446e-05 - val_loss: 0.0113\n",
            "Epoch 74/100\n",
            "12/12 [==============================] - 0s 18ms/step - loss: 3.4887e-05 - val_loss: 0.0100\n",
            "Epoch 75/100\n",
            "12/12 [==============================] - 0s 18ms/step - loss: 3.1095e-05 - val_loss: 0.0101\n",
            "Epoch 76/100\n",
            "12/12 [==============================] - 0s 17ms/step - loss: 3.4747e-05 - val_loss: 0.0104\n",
            "Epoch 77/100\n",
            "12/12 [==============================] - 0s 18ms/step - loss: 3.0033e-05 - val_loss: 0.0098\n",
            "Epoch 78/100\n",
            "12/12 [==============================] - 0s 18ms/step - loss: 2.9985e-05 - val_loss: 0.0115\n",
            "Epoch 79/100\n",
            "12/12 [==============================] - 0s 18ms/step - loss: 3.4392e-05 - val_loss: 0.0102\n",
            "Epoch 80/100\n",
            "12/12 [==============================] - 0s 18ms/step - loss: 3.0056e-05 - val_loss: 0.0095\n",
            "Epoch 81/100\n",
            "12/12 [==============================] - 0s 18ms/step - loss: 3.4448e-05 - val_loss: 0.0104\n",
            "Epoch 82/100\n",
            "12/12 [==============================] - 0s 18ms/step - loss: 3.0104e-05 - val_loss: 0.0111\n",
            "Epoch 83/100\n",
            "12/12 [==============================] - 0s 18ms/step - loss: 3.8819e-05 - val_loss: 0.0096\n",
            "Epoch 84/100\n",
            "12/12 [==============================] - 0s 18ms/step - loss: 3.0813e-05 - val_loss: 0.0102\n",
            "Epoch 85/100\n",
            "12/12 [==============================] - 0s 18ms/step - loss: 2.7614e-05 - val_loss: 0.0106\n",
            "Epoch 86/100\n",
            "12/12 [==============================] - 0s 19ms/step - loss: 2.7773e-05 - val_loss: 0.0114\n",
            "Epoch 87/100\n",
            "12/12 [==============================] - 0s 18ms/step - loss: 3.0876e-05 - val_loss: 0.0092\n",
            "Epoch 88/100\n",
            "12/12 [==============================] - 0s 18ms/step - loss: 2.6319e-05 - val_loss: 0.0109\n",
            "Epoch 89/100\n",
            "12/12 [==============================] - 0s 17ms/step - loss: 2.6165e-05 - val_loss: 0.0115\n",
            "Epoch 90/100\n",
            "12/12 [==============================] - 0s 18ms/step - loss: 2.8263e-05 - val_loss: 0.0090\n",
            "Epoch 91/100\n",
            "12/12 [==============================] - 0s 19ms/step - loss: 3.0616e-05 - val_loss: 0.0121\n",
            "Epoch 92/100\n",
            "12/12 [==============================] - 0s 18ms/step - loss: 2.7324e-05 - val_loss: 0.0084\n",
            "Epoch 93/100\n",
            "12/12 [==============================] - 0s 18ms/step - loss: 2.7838e-05 - val_loss: 0.0108\n",
            "Epoch 94/100\n",
            "12/12 [==============================] - 0s 18ms/step - loss: 2.6646e-05 - val_loss: 0.0110\n",
            "Epoch 95/100\n",
            "12/12 [==============================] - 0s 18ms/step - loss: 2.9602e-05 - val_loss: 0.0087\n",
            "Epoch 96/100\n",
            "12/12 [==============================] - 0s 18ms/step - loss: 2.5045e-05 - val_loss: 0.0105\n",
            "Epoch 97/100\n",
            "12/12 [==============================] - 0s 18ms/step - loss: 2.5994e-05 - val_loss: 0.0092\n",
            "Epoch 98/100\n",
            "12/12 [==============================] - 0s 18ms/step - loss: 2.2585e-05 - val_loss: 0.0092\n",
            "Epoch 99/100\n",
            "12/12 [==============================] - 0s 18ms/step - loss: 2.5149e-05 - val_loss: 0.0106\n",
            "Epoch 100/100\n",
            "12/12 [==============================] - 0s 18ms/step - loss: 2.4383e-05 - val_loss: 0.0091\n"
          ],
          "name": "stdout"
        },
        {
          "output_type": "execute_result",
          "data": {
            "text/plain": [
              "<tensorflow.python.keras.callbacks.History at 0x7fe93863b510>"
            ]
          },
          "metadata": {
            "tags": []
          },
          "execution_count": 35
        }
      ]
    },
    {
      "cell_type": "code",
      "metadata": {
        "id": "dyV3lfqzZT1g"
      },
      "source": [
        "# Let's do the prediction and check performance metrics\n",
        "\n",
        "train_predict = model.predict(X_train)\n",
        "test_predict = model.predict(X_test)"
      ],
      "execution_count": 36,
      "outputs": []
    },
    {
      "cell_type": "code",
      "metadata": {
        "id": "OpHfyW7iZimh"
      },
      "source": [
        "# Transform back to original form\n",
        "\n",
        "train_predict = scaler.inverse_transform(train_predict)\n",
        "test_predict = scaler.inverse_transform(test_predict)"
      ],
      "execution_count": 37,
      "outputs": []
    },
    {
      "cell_type": "code",
      "metadata": {
        "colab": {
          "base_uri": "https://localhost:8080/"
        },
        "id": "CcgdJK7HZrV8",
        "outputId": "31e68efa-d011-4bf8-f297-5a9825a9e97b"
      },
      "source": [
        "# Calculate RMSE performance metrics\n",
        "\n",
        "import math\n",
        "from sklearn.metrics import mean_squared_error\n",
        "math.sqrt(mean_squared_error(y_train, train_predict))"
      ],
      "execution_count": 39,
      "outputs": [
        {
          "output_type": "execute_result",
          "data": {
            "text/plain": [
              "297.0669274543466"
            ]
          },
          "metadata": {
            "tags": []
          },
          "execution_count": 39
        }
      ]
    },
    {
      "cell_type": "code",
      "metadata": {
        "colab": {
          "base_uri": "https://localhost:8080/"
        },
        "id": "pa6X2Ca9Z0rB",
        "outputId": "7ae90248-13eb-46e1-d2df-1afa0a705f1b"
      },
      "source": [
        "# Test data RMSE\n",
        "\n",
        "math.sqrt(mean_squared_error(y_test, test_predict))"
      ],
      "execution_count": 40,
      "outputs": [
        {
          "output_type": "execute_result",
          "data": {
            "text/plain": [
              "699.7328657135802"
            ]
          },
          "metadata": {
            "tags": []
          },
          "execution_count": 40
        }
      ]
    },
    {
      "cell_type": "code",
      "metadata": {
        "colab": {
          "base_uri": "https://localhost:8080/",
          "height": 265
        },
        "id": "fYJz22nDZ8h5",
        "outputId": "be620c71-2505-4d4c-fce5-296cfd3281f8"
      },
      "source": [
        "# Plotting\n",
        "# Shift train predictionis for plotting\n",
        "\n",
        "look_back = 100\n",
        "trainPredictPlot = numpy.empty_like(df1)\n",
        "trainPredictPlot[:,:] = np.nan\n",
        "trainPredictPlot[look_back: len(train_predict) + look_back, :] = train_predict\n",
        "\n",
        "\n",
        "# Shif test prediction for plotting\n",
        "testPredictPlot = numpy.empty_like(df1)\n",
        "testPredictPlot[:,:] = numpy.nan\n",
        "testPredictPlot[len(train_predict) + (look_back*2) + 1: len(df1)-1,:] = test_predict\n",
        "\n",
        "\n",
        "# plot baseline and predictions\n",
        "plt.plot(scaler.inverse_transform(df1))\n",
        "plt.plot(trainPredictPlot)\n",
        "plt.plot(testPredictPlot)\n",
        "plt.show()"
      ],
      "execution_count": 41,
      "outputs": [
        {
          "output_type": "display_data",
          "data": {
            "image/png": "[encoded data removed]",
            "text/plain": [
              "<Figure size 432x288 with 1 Axes>"
            ]
          },
          "metadata": {
            "tags": [],
            "needs_background": "light"
          }
        }
      ]
    },
    {
      "cell_type": "code",
      "metadata": {
        "colab": {
          "base_uri": "https://localhost:8080/"
        },
        "id": "R5JyOLpzamyX",
        "outputId": "1dacf2f2-47cc-4aaa-8fd2-fdb996cc8c93"
      },
      "source": [
        "len(test_data)"
      ],
      "execution_count": 42,
      "outputs": [
        {
          "output_type": "execute_result",
          "data": {
            "text/plain": [
              "441"
            ]
          },
          "metadata": {
            "tags": []
          },
          "execution_count": 42
        }
      ]
    },
    {
      "cell_type": "code",
      "metadata": {
        "colab": {
          "base_uri": "https://localhost:8080/"
        },
        "id": "2BuCNPpvarHt",
        "outputId": "2546765b-1eb3-4fd1-8a3a-45363d9f7c37"
      },
      "source": [
        "X_input = test_data[341:].reshape(1,-1)\n",
        "X_input.shape"
      ],
      "execution_count": 43,
      "outputs": [
        {
          "output_type": "execute_result",
          "data": {
            "text/plain": [
              "(1, 100)"
            ]
          },
          "metadata": {
            "tags": []
          },
          "execution_count": 43
        }
      ]
    },
    {
      "cell_type": "code",
      "metadata": {
        "id": "WUCWJlQJayFF"
      },
      "source": [
        "temp_input = list(X_input)\n",
        "temp_input = temp_input[0].tolist()"
      ],
      "execution_count": 44,
      "outputs": []
    },
    {
      "cell_type": "code",
      "metadata": {
        "colab": {
          "base_uri": "https://localhost:8080/"
        },
        "id": "G9Q0NqSga3wu",
        "outputId": "9d0e7cd8-f8fc-41d4-dc78-daf748449993"
      },
      "source": [
        "# Demonstrate prediction for next 10 days\n",
        "\n",
        "from numpy import array\n",
        "\n",
        "lst_output = []\n",
        "n_steps = 100\n",
        "i = 0\n",
        "\n",
        "while(i<30):\n",
        "  if(len(temp_input) > 100):\n",
        "    # print(temp_input)\n",
        "    X_input = np.array(temp_input[1:])\n",
        "    print(\" {} day input {}\".format(i, X_input))\n",
        "    X_input = X_input.reshape(1,-1)\n",
        "    X_input = X_input.reshape((1, n_steps, 1))\n",
        "\n",
        "    # print(X_input)\n",
        "    yhat = model.predict(X_input, verbose = 0)\n",
        "    print(\"{} day output {}\".format(i, yhat))\n",
        "    temp_input.extend(yhat[0].tolist())\n",
        "    temp_input = temp_input[1:]\n",
        "\n",
        "    # print(temp_input)\n",
        "    lst_output.extend(yhat.tolist())\n",
        "    i = i+1\n",
        "  else:\n",
        "    X_input = X_input.reshape((1, n_steps, 1))\n",
        "    yhat = model.predict(X_input, verbose = 0)\n",
        "    print(yhat[0])\n",
        "    temp_input.extend(yhat[0].tolist())\n",
        "    print(len(temp_input))\n",
        "    lst_output.extend(yhat.tolist())\n",
        "    i = i+1\n",
        "\n",
        "print(lst_output)"
      ],
      "execution_count": 46,
      "outputs": [
        {
          "output_type": "stream",
          "text": [
            "[0.21283275]\n",
            "101\n",
            " 1 day input [0.22467933 0.2286215  0.20658031 0.21754751 0.20925536 0.22374234\n",
            " 0.22054783 0.2154599  0.23154415 0.25052676 0.22861179 0.22398994\n",
            " 0.2267281  0.23439396 0.2353261  0.23644273 0.25041995 0.25570692\n",
            " 0.2674072  0.26999971 0.28013186 0.30929031 0.34035188 0.30693569\n",
            " 0.32550564 0.32791852 0.32335007 0.31420346 0.3231316  0.32599598\n",
            " 0.32334521 0.32414627 0.34073056 0.34184233 0.33265203 0.31870394\n",
            " 0.29836196 0.32083038 0.3368418  0.32805445 0.32577266 0.32686015\n",
            " 0.33229277 0.32551535 0.30384313 0.30716387 0.30932915 0.29966793\n",
            " 0.30060492 0.29537621 0.29242443 0.25999379 0.25239103 0.27335444\n",
            " 0.24432221 0.24105972 0.26190176 0.24637097 0.23023333 0.2148142\n",
            " 0.20341007 0.18644224 0.24012759 0.23744769 0.25276    0.24991018\n",
            " 0.25680898 0.2417297  0.25383293 0.23021391 0.23104409 0.23838954\n",
            " 0.23458331 0.21910107 0.22401422 0.21348882 0.20988649 0.22169843\n",
            " 0.23738458 0.23438425 0.24860907 0.2488858  0.23886046 0.24508928\n",
            " 0.24179767 0.25391547 0.28320986 0.2686015  0.27181544 0.27226694\n",
            " 0.2600569  0.26217363 0.27437396 0.26251347 0.26722757 0.27149987\n",
            " 0.25525542 0.25023546 0.24178796 0.21283275]\n",
            "1 day output [[0.19574957]]\n",
            " 2 day input [0.2286215  0.20658031 0.21754751 0.20925536 0.22374234 0.22054783\n",
            " 0.2154599  0.23154415 0.25052676 0.22861179 0.22398994 0.2267281\n",
            " 0.23439396 0.2353261  0.23644273 0.25041995 0.25570692 0.2674072\n",
            " 0.26999971 0.28013186 0.30929031 0.34035188 0.30693569 0.32550564\n",
            " 0.32791852 0.32335007 0.31420346 0.3231316  0.32599598 0.32334521\n",
            " 0.32414627 0.34073056 0.34184233 0.33265203 0.31870394 0.29836196\n",
            " 0.32083038 0.3368418  0.32805445 0.32577266 0.32686015 0.33229277\n",
            " 0.32551535 0.30384313 0.30716387 0.30932915 0.29966793 0.30060492\n",
            " 0.29537621 0.29242443 0.25999379 0.25239103 0.27335444 0.24432221\n",
            " 0.24105972 0.26190176 0.24637097 0.23023333 0.2148142  0.20341007\n",
            " 0.18644224 0.24012759 0.23744769 0.25276    0.24991018 0.25680898\n",
            " 0.2417297  0.25383293 0.23021391 0.23104409 0.23838954 0.23458331\n",
            " 0.21910107 0.22401422 0.21348882 0.20988649 0.22169843 0.23738458\n",
            " 0.23438425 0.24860907 0.2488858  0.23886046 0.24508928 0.24179767\n",
            " 0.25391547 0.28320986 0.2686015  0.27181544 0.27226694 0.2600569\n",
            " 0.26217363 0.27437396 0.26251347 0.26722757 0.27149987 0.25525542\n",
            " 0.25023546 0.24178796 0.21283275 0.19574957]\n",
            "2 day output [[0.17705275]]\n",
            " 3 day input [0.20658031 0.21754751 0.20925536 0.22374234 0.22054783 0.2154599\n",
            " 0.23154415 0.25052676 0.22861179 0.22398994 0.2267281  0.23439396\n",
            " 0.2353261  0.23644273 0.25041995 0.25570692 0.2674072  0.26999971\n",
            " 0.28013186 0.30929031 0.34035188 0.30693569 0.32550564 0.32791852\n",
            " 0.32335007 0.31420346 0.3231316  0.32599598 0.32334521 0.32414627\n",
            " 0.34073056 0.34184233 0.33265203 0.31870394 0.29836196 0.32083038\n",
            " 0.3368418  0.32805445 0.32577266 0.32686015 0.33229277 0.32551535\n",
            " 0.30384313 0.30716387 0.30932915 0.29966793 0.30060492 0.29537621\n",
            " 0.29242443 0.25999379 0.25239103 0.27335444 0.24432221 0.24105972\n",
            " 0.26190176 0.24637097 0.23023333 0.2148142  0.20341007 0.18644224\n",
            " 0.24012759 0.23744769 0.25276    0.24991018 0.25680898 0.2417297\n",
            " 0.25383293 0.23021391 0.23104409 0.23838954 0.23458331 0.21910107\n",
            " 0.22401422 0.21348882 0.20988649 0.22169843 0.23738458 0.23438425\n",
            " 0.24860907 0.2488858  0.23886046 0.24508928 0.24179767 0.25391547\n",
            " 0.28320986 0.2686015  0.27181544 0.27226694 0.2600569  0.26217363\n",
            " 0.27437396 0.26251347 0.26722757 0.27149987 0.25525542 0.25023546\n",
            " 0.24178796 0.21283275 0.19574957 0.17705275]\n",
            "3 day output [[0.1601352]]\n",
            " 4 day input [0.21754751 0.20925536 0.22374234 0.22054783 0.2154599  0.23154415\n",
            " 0.25052676 0.22861179 0.22398994 0.2267281  0.23439396 0.2353261\n",
            " 0.23644273 0.25041995 0.25570692 0.2674072  0.26999971 0.28013186\n",
            " 0.30929031 0.34035188 0.30693569 0.32550564 0.32791852 0.32335007\n",
            " 0.31420346 0.3231316  0.32599598 0.32334521 0.32414627 0.34073056\n",
            " 0.34184233 0.33265203 0.31870394 0.29836196 0.32083038 0.3368418\n",
            " 0.32805445 0.32577266 0.32686015 0.33229277 0.32551535 0.30384313\n",
            " 0.30716387 0.30932915 0.29966793 0.30060492 0.29537621 0.29242443\n",
            " 0.25999379 0.25239103 0.27335444 0.24432221 0.24105972 0.26190176\n",
            " 0.24637097 0.23023333 0.2148142  0.20341007 0.18644224 0.24012759\n",
            " 0.23744769 0.25276    0.24991018 0.25680898 0.2417297  0.25383293\n",
            " 0.23021391 0.23104409 0.23838954 0.23458331 0.21910107 0.22401422\n",
            " 0.21348882 0.20988649 0.22169843 0.23738458 0.23438425 0.24860907\n",
            " 0.2488858  0.23886046 0.24508928 0.24179767 0.25391547 0.28320986\n",
            " 0.2686015  0.27181544 0.27226694 0.2600569  0.26217363 0.27437396\n",
            " 0.26251347 0.26722757 0.27149987 0.25525542 0.25023546 0.24178796\n",
            " 0.21283275 0.19574957 0.17705275 0.16013519]\n",
            "4 day output [[0.14601849]]\n",
            " 5 day input [0.20925536 0.22374234 0.22054783 0.2154599  0.23154415 0.25052676\n",
            " 0.22861179 0.22398994 0.2267281  0.23439396 0.2353261  0.23644273\n",
            " 0.25041995 0.25570692 0.2674072  0.26999971 0.28013186 0.30929031\n",
            " 0.34035188 0.30693569 0.32550564 0.32791852 0.32335007 0.31420346\n",
            " 0.3231316  0.32599598 0.32334521 0.32414627 0.34073056 0.34184233\n",
            " 0.33265203 0.31870394 0.29836196 0.32083038 0.3368418  0.32805445\n",
            " 0.32577266 0.32686015 0.33229277 0.32551535 0.30384313 0.30716387\n",
            " 0.30932915 0.29966793 0.30060492 0.29537621 0.29242443 0.25999379\n",
            " 0.25239103 0.27335444 0.24432221 0.24105972 0.26190176 0.24637097\n",
            " 0.23023333 0.2148142  0.20341007 0.18644224 0.24012759 0.23744769\n",
            " 0.25276    0.24991018 0.25680898 0.2417297  0.25383293 0.23021391\n",
            " 0.23104409 0.23838954 0.23458331 0.21910107 0.22401422 0.21348882\n",
            " 0.20988649 0.22169843 0.23738458 0.23438425 0.24860907 0.2488858\n",
            " 0.23886046 0.24508928 0.24179767 0.25391547 0.28320986 0.2686015\n",
            " 0.27181544 0.27226694 0.2600569  0.26217363 0.27437396 0.26251347\n",
            " 0.26722757 0.27149987 0.25525542 0.25023546 0.24178796 0.21283275\n",
            " 0.19574957 0.17705275 0.16013519 0.14601849]\n",
            "5 day output [[0.13489285]]\n",
            " 6 day input [0.22374234 0.22054783 0.2154599  0.23154415 0.25052676 0.22861179\n",
            " 0.22398994 0.2267281  0.23439396 0.2353261  0.23644273 0.25041995\n",
            " 0.25570692 0.2674072  0.26999971 0.28013186 0.30929031 0.34035188\n",
            " 0.30693569 0.32550564 0.32791852 0.32335007 0.31420346 0.3231316\n",
            " 0.32599598 0.32334521 0.32414627 0.34073056 0.34184233 0.33265203\n",
            " 0.31870394 0.29836196 0.32083038 0.3368418  0.32805445 0.32577266\n",
            " 0.32686015 0.33229277 0.32551535 0.30384313 0.30716387 0.30932915\n",
            " 0.29966793 0.30060492 0.29537621 0.29242443 0.25999379 0.25239103\n",
            " 0.27335444 0.24432221 0.24105972 0.26190176 0.24637097 0.23023333\n",
            " 0.2148142  0.20341007 0.18644224 0.24012759 0.23744769 0.25276\n",
            " 0.24991018 0.25680898 0.2417297  0.25383293 0.23021391 0.23104409\n",
            " 0.23838954 0.23458331 0.21910107 0.22401422 0.21348882 0.20988649\n",
            " 0.22169843 0.23738458 0.23438425 0.24860907 0.2488858  0.23886046\n",
            " 0.24508928 0.24179767 0.25391547 0.28320986 0.2686015  0.27181544\n",
            " 0.27226694 0.2600569  0.26217363 0.27437396 0.26251347 0.26722757\n",
            " 0.27149987 0.25525542 0.25023546 0.24178796 0.21283275 0.19574957\n",
            " 0.17705275 0.16013519 0.14601849 0.13489285]\n",
            "6 day output [[0.12658691]]\n",
            " 7 day input [0.22054783 0.2154599  0.23154415 0.25052676 0.22861179 0.22398994\n",
            " 0.2267281  0.23439396 0.2353261  0.23644273 0.25041995 0.25570692\n",
            " 0.2674072  0.26999971 0.28013186 0.30929031 0.34035188 0.30693569\n",
            " 0.32550564 0.32791852 0.32335007 0.31420346 0.3231316  0.32599598\n",
            " 0.32334521 0.32414627 0.34073056 0.34184233 0.33265203 0.31870394\n",
            " 0.29836196 0.32083038 0.3368418  0.32805445 0.32577266 0.32686015\n",
            " 0.33229277 0.32551535 0.30384313 0.30716387 0.30932915 0.29966793\n",
            " 0.30060492 0.29537621 0.29242443 0.25999379 0.25239103 0.27335444\n",
            " 0.24432221 0.24105972 0.26190176 0.24637097 0.23023333 0.2148142\n",
            " 0.20341007 0.18644224 0.24012759 0.23744769 0.25276    0.24991018\n",
            " 0.25680898 0.2417297  0.25383293 0.23021391 0.23104409 0.23838954\n",
            " 0.23458331 0.21910107 0.22401422 0.21348882 0.20988649 0.22169843\n",
            " 0.23738458 0.23438425 0.24860907 0.2488858  0.23886046 0.24508928\n",
            " 0.24179767 0.25391547 0.28320986 0.2686015  0.27181544 0.27226694\n",
            " 0.2600569  0.26217363 0.27437396 0.26251347 0.26722757 0.27149987\n",
            " 0.25525542 0.25023546 0.24178796 0.21283275 0.19574957 0.17705275\n",
            " 0.16013519 0.14601849 0.13489285 0.12658691]\n",
            "7 day output [[0.12070899]]\n",
            " 8 day input [0.2154599  0.23154415 0.25052676 0.22861179 0.22398994 0.2267281\n",
            " 0.23439396 0.2353261  0.23644273 0.25041995 0.25570692 0.2674072\n",
            " 0.26999971 0.28013186 0.30929031 0.34035188 0.30693569 0.32550564\n",
            " 0.32791852 0.32335007 0.31420346 0.3231316  0.32599598 0.32334521\n",
            " 0.32414627 0.34073056 0.34184233 0.33265203 0.31870394 0.29836196\n",
            " 0.32083038 0.3368418  0.32805445 0.32577266 0.32686015 0.33229277\n",
            " 0.32551535 0.30384313 0.30716387 0.30932915 0.29966793 0.30060492\n",
            " 0.29537621 0.29242443 0.25999379 0.25239103 0.27335444 0.24432221\n",
            " 0.24105972 0.26190176 0.24637097 0.23023333 0.2148142  0.20341007\n",
            " 0.18644224 0.24012759 0.23744769 0.25276    0.24991018 0.25680898\n",
            " 0.2417297  0.25383293 0.23021391 0.23104409 0.23838954 0.23458331\n",
            " 0.21910107 0.22401422 0.21348882 0.20988649 0.22169843 0.23738458\n",
            " 0.23438425 0.24860907 0.2488858  0.23886046 0.24508928 0.24179767\n",
            " 0.25391547 0.28320986 0.2686015  0.27181544 0.27226694 0.2600569\n",
            " 0.26217363 0.27437396 0.26251347 0.26722757 0.27149987 0.25525542\n",
            " 0.25023546 0.24178796 0.21283275 0.19574957 0.17705275 0.16013519\n",
            " 0.14601849 0.13489285 0.12658691 0.12070899]\n",
            "8 day output [[0.11674363]]\n",
            " 9 day input [0.23154415 0.25052676 0.22861179 0.22398994 0.2267281  0.23439396\n",
            " 0.2353261  0.23644273 0.25041995 0.25570692 0.2674072  0.26999971\n",
            " 0.28013186 0.30929031 0.34035188 0.30693569 0.32550564 0.32791852\n",
            " 0.32335007 0.31420346 0.3231316  0.32599598 0.32334521 0.32414627\n",
            " 0.34073056 0.34184233 0.33265203 0.31870394 0.29836196 0.32083038\n",
            " 0.3368418  0.32805445 0.32577266 0.32686015 0.33229277 0.32551535\n",
            " 0.30384313 0.30716387 0.30932915 0.29966793 0.30060492 0.29537621\n",
            " 0.29242443 0.25999379 0.25239103 0.27335444 0.24432221 0.24105972\n",
            " 0.26190176 0.24637097 0.23023333 0.2148142  0.20341007 0.18644224\n",
            " 0.24012759 0.23744769 0.25276    0.24991018 0.25680898 0.2417297\n",
            " 0.25383293 0.23021391 0.23104409 0.23838954 0.23458331 0.21910107\n",
            " 0.22401422 0.21348882 0.20988649 0.22169843 0.23738458 0.23438425\n",
            " 0.24860907 0.2488858  0.23886046 0.24508928 0.24179767 0.25391547\n",
            " 0.28320986 0.2686015  0.27181544 0.27226694 0.2600569  0.26217363\n",
            " 0.27437396 0.26251347 0.26722757 0.27149987 0.25525542 0.25023546\n",
            " 0.24178796 0.21283275 0.19574957 0.17705275 0.16013519 0.14601849\n",
            " 0.13489285 0.12658691 0.12070899 0.11674363]\n",
            "9 day output [[0.11413983]]\n",
            " 10 day input [0.25052676 0.22861179 0.22398994 0.2267281  0.23439396 0.2353261\n",
            " 0.23644273 0.25041995 0.25570692 0.2674072  0.26999971 0.28013186\n",
            " 0.30929031 0.34035188 0.30693569 0.32550564 0.32791852 0.32335007\n",
            " 0.31420346 0.3231316  0.32599598 0.32334521 0.32414627 0.34073056\n",
            " 0.34184233 0.33265203 0.31870394 0.29836196 0.32083038 0.3368418\n",
            " 0.32805445 0.32577266 0.32686015 0.33229277 0.32551535 0.30384313\n",
            " 0.30716387 0.30932915 0.29966793 0.30060492 0.29537621 0.29242443\n",
            " 0.25999379 0.25239103 0.27335444 0.24432221 0.24105972 0.26190176\n",
            " 0.24637097 0.23023333 0.2148142  0.20341007 0.18644224 0.24012759\n",
            " 0.23744769 0.25276    0.24991018 0.25680898 0.2417297  0.25383293\n",
            " 0.23021391 0.23104409 0.23838954 0.23458331 0.21910107 0.22401422\n",
            " 0.21348882 0.20988649 0.22169843 0.23738458 0.23438425 0.24860907\n",
            " 0.2488858  0.23886046 0.24508928 0.24179767 0.25391547 0.28320986\n",
            " 0.2686015  0.27181544 0.27226694 0.2600569  0.26217363 0.27437396\n",
            " 0.26251347 0.26722757 0.27149987 0.25525542 0.25023546 0.24178796\n",
            " 0.21283275 0.19574957 0.17705275 0.16013519 0.14601849 0.13489285\n",
            " 0.12658691 0.12070899 0.11674363 0.11413983]\n",
            "10 day output [[0.11238257]]\n",
            " 11 day input [0.22861179 0.22398994 0.2267281  0.23439396 0.2353261  0.23644273\n",
            " 0.25041995 0.25570692 0.2674072  0.26999971 0.28013186 0.30929031\n",
            " 0.34035188 0.30693569 0.32550564 0.32791852 0.32335007 0.31420346\n",
            " 0.3231316  0.32599598 0.32334521 0.32414627 0.34073056 0.34184233\n",
            " 0.33265203 0.31870394 0.29836196 0.32083038 0.3368418  0.32805445\n",
            " 0.32577266 0.32686015 0.33229277 0.32551535 0.30384313 0.30716387\n",
            " 0.30932915 0.29966793 0.30060492 0.29537621 0.29242443 0.25999379\n",
            " 0.25239103 0.27335444 0.24432221 0.24105972 0.26190176 0.24637097\n",
            " 0.23023333 0.2148142  0.20341007 0.18644224 0.24012759 0.23744769\n",
            " 0.25276    0.24991018 0.25680898 0.2417297  0.25383293 0.23021391\n",
            " 0.23104409 0.23838954 0.23458331 0.21910107 0.22401422 0.21348882\n",
            " 0.20988649 0.22169843 0.23738458 0.23438425 0.24860907 0.2488858\n",
            " 0.23886046 0.24508928 0.24179767 0.25391547 0.28320986 0.2686015\n",
            " 0.27181544 0.27226694 0.2600569  0.26217363 0.27437396 0.26251347\n",
            " 0.26722757 0.27149987 0.25525542 0.25023546 0.24178796 0.21283275\n",
            " 0.19574957 0.17705275 0.16013519 0.14601849 0.13489285 0.12658691\n",
            " 0.12070899 0.11674363 0.11413983 0.11238257]\n",
            "11 day output [[0.11104047]]\n",
            " 12 day input [0.22398994 0.2267281  0.23439396 0.2353261  0.23644273 0.25041995\n",
            " 0.25570692 0.2674072  0.26999971 0.28013186 0.30929031 0.34035188\n",
            " 0.30693569 0.32550564 0.32791852 0.32335007 0.31420346 0.3231316\n",
            " 0.32599598 0.32334521 0.32414627 0.34073056 0.34184233 0.33265203\n",
            " 0.31870394 0.29836196 0.32083038 0.3368418  0.32805445 0.32577266\n",
            " 0.32686015 0.33229277 0.32551535 0.30384313 0.30716387 0.30932915\n",
            " 0.29966793 0.30060492 0.29537621 0.29242443 0.25999379 0.25239103\n",
            " 0.27335444 0.24432221 0.24105972 0.26190176 0.24637097 0.23023333\n",
            " 0.2148142  0.20341007 0.18644224 0.24012759 0.23744769 0.25276\n",
            " 0.24991018 0.25680898 0.2417297  0.25383293 0.23021391 0.23104409\n",
            " 0.23838954 0.23458331 0.21910107 0.22401422 0.21348882 0.20988649\n",
            " 0.22169843 0.23738458 0.23438425 0.24860907 0.2488858  0.23886046\n",
            " 0.24508928 0.24179767 0.25391547 0.28320986 0.2686015  0.27181544\n",
            " 0.27226694 0.2600569  0.26217363 0.27437396 0.26251347 0.26722757\n",
            " 0.27149987 0.25525542 0.25023546 0.24178796 0.21283275 0.19574957\n",
            " 0.17705275 0.16013519 0.14601849 0.13489285 0.12658691 0.12070899\n",
            " 0.11674363 0.11413983 0.11238257 0.11104047]\n",
            "12 day output [[0.10979006]]\n",
            " 13 day input [0.2267281  0.23439396 0.2353261  0.23644273 0.25041995 0.25570692\n",
            " 0.2674072  0.26999971 0.28013186 0.30929031 0.34035188 0.30693569\n",
            " 0.32550564 0.32791852 0.32335007 0.31420346 0.3231316  0.32599598\n",
            " 0.32334521 0.32414627 0.34073056 0.34184233 0.33265203 0.31870394\n",
            " 0.29836196 0.32083038 0.3368418  0.32805445 0.32577266 0.32686015\n",
            " 0.33229277 0.32551535 0.30384313 0.30716387 0.30932915 0.29966793\n",
            " 0.30060492 0.29537621 0.29242443 0.25999379 0.25239103 0.27335444\n",
            " 0.24432221 0.24105972 0.26190176 0.24637097 0.23023333 0.2148142\n",
            " 0.20341007 0.18644224 0.24012759 0.23744769 0.25276    0.24991018\n",
            " 0.25680898 0.2417297  0.25383293 0.23021391 0.23104409 0.23838954\n",
            " 0.23458331 0.21910107 0.22401422 0.21348882 0.20988649 0.22169843\n",
            " 0.23738458 0.23438425 0.24860907 0.2488858  0.23886046 0.24508928\n",
            " 0.24179767 0.25391547 0.28320986 0.2686015  0.27181544 0.27226694\n",
            " 0.2600569  0.26217363 0.27437396 0.26251347 0.26722757 0.27149987\n",
            " 0.25525542 0.25023546 0.24178796 0.21283275 0.19574957 0.17705275\n",
            " 0.16013519 0.14601849 0.13489285 0.12658691 0.12070899 0.11674363\n",
            " 0.11413983 0.11238257 0.11104047 0.10979006]\n",
            "13 day output [[0.10842066]]\n",
            " 14 day input [0.23439396 0.2353261  0.23644273 0.25041995 0.25570692 0.2674072\n",
            " 0.26999971 0.28013186 0.30929031 0.34035188 0.30693569 0.32550564\n",
            " 0.32791852 0.32335007 0.31420346 0.3231316  0.32599598 0.32334521\n",
            " 0.32414627 0.34073056 0.34184233 0.33265203 0.31870394 0.29836196\n",
            " 0.32083038 0.3368418  0.32805445 0.32577266 0.32686015 0.33229277\n",
            " 0.32551535 0.30384313 0.30716387 0.30932915 0.29966793 0.30060492\n",
            " 0.29537621 0.29242443 0.25999379 0.25239103 0.27335444 0.24432221\n",
            " 0.24105972 0.26190176 0.24637097 0.23023333 0.2148142  0.20341007\n",
            " 0.18644224 0.24012759 0.23744769 0.25276    0.24991018 0.25680898\n",
            " 0.2417297  0.25383293 0.23021391 0.23104409 0.23838954 0.23458331\n",
            " 0.21910107 0.22401422 0.21348882 0.20988649 0.22169843 0.23738458\n",
            " 0.23438425 0.24860907 0.2488858  0.23886046 0.24508928 0.24179767\n",
            " 0.25391547 0.28320986 0.2686015  0.27181544 0.27226694 0.2600569\n",
            " 0.26217363 0.27437396 0.26251347 0.26722757 0.27149987 0.25525542\n",
            " 0.25023546 0.24178796 0.21283275 0.19574957 0.17705275 0.16013519\n",
            " 0.14601849 0.13489285 0.12658691 0.12070899 0.11674363 0.11413983\n",
            " 0.11238257 0.11104047 0.10979006 0.10842066]\n",
            "14 day output [[0.10682435]]\n",
            " 15 day input [0.2353261  0.23644273 0.25041995 0.25570692 0.2674072  0.26999971\n",
            " 0.28013186 0.30929031 0.34035188 0.30693569 0.32550564 0.32791852\n",
            " 0.32335007 0.31420346 0.3231316  0.32599598 0.32334521 0.32414627\n",
            " 0.34073056 0.34184233 0.33265203 0.31870394 0.29836196 0.32083038\n",
            " 0.3368418  0.32805445 0.32577266 0.32686015 0.33229277 0.32551535\n",
            " 0.30384313 0.30716387 0.30932915 0.29966793 0.30060492 0.29537621\n",
            " 0.29242443 0.25999379 0.25239103 0.27335444 0.24432221 0.24105972\n",
            " 0.26190176 0.24637097 0.23023333 0.2148142  0.20341007 0.18644224\n",
            " 0.24012759 0.23744769 0.25276    0.24991018 0.25680898 0.2417297\n",
            " 0.25383293 0.23021391 0.23104409 0.23838954 0.23458331 0.21910107\n",
            " 0.22401422 0.21348882 0.20988649 0.22169843 0.23738458 0.23438425\n",
            " 0.24860907 0.2488858  0.23886046 0.24508928 0.24179767 0.25391547\n",
            " 0.28320986 0.2686015  0.27181544 0.27226694 0.2600569  0.26217363\n",
            " 0.27437396 0.26251347 0.26722757 0.27149987 0.25525542 0.25023546\n",
            " 0.24178796 0.21283275 0.19574957 0.17705275 0.16013519 0.14601849\n",
            " 0.13489285 0.12658691 0.12070899 0.11674363 0.11413983 0.11238257\n",
            " 0.11104047 0.10979006 0.10842066 0.10682435]\n",
            "15 day output [[0.10497689]]\n",
            " 16 day input [0.23644273 0.25041995 0.25570692 0.2674072  0.26999971 0.28013186\n",
            " 0.30929031 0.34035188 0.30693569 0.32550564 0.32791852 0.32335007\n",
            " 0.31420346 0.3231316  0.32599598 0.32334521 0.32414627 0.34073056\n",
            " 0.34184233 0.33265203 0.31870394 0.29836196 0.32083038 0.3368418\n",
            " 0.32805445 0.32577266 0.32686015 0.33229277 0.32551535 0.30384313\n",
            " 0.30716387 0.30932915 0.29966793 0.30060492 0.29537621 0.29242443\n",
            " 0.25999379 0.25239103 0.27335444 0.24432221 0.24105972 0.26190176\n",
            " 0.24637097 0.23023333 0.2148142  0.20341007 0.18644224 0.24012759\n",
            " 0.23744769 0.25276    0.24991018 0.25680898 0.2417297  0.25383293\n",
            " 0.23021391 0.23104409 0.23838954 0.23458331 0.21910107 0.22401422\n",
            " 0.21348882 0.20988649 0.22169843 0.23738458 0.23438425 0.24860907\n",
            " 0.2488858  0.23886046 0.24508928 0.24179767 0.25391547 0.28320986\n",
            " 0.2686015  0.27181544 0.27226694 0.2600569  0.26217363 0.27437396\n",
            " 0.26251347 0.26722757 0.27149987 0.25525542 0.25023546 0.24178796\n",
            " 0.21283275 0.19574957 0.17705275 0.16013519 0.14601849 0.13489285\n",
            " 0.12658691 0.12070899 0.11674363 0.11413983 0.11238257 0.11104047\n",
            " 0.10979006 0.10842066 0.10682435 0.10497689]\n",
            "16 day output [[0.10291407]]\n",
            " 17 day input [0.25041995 0.25570692 0.2674072  0.26999971 0.28013186 0.30929031\n",
            " 0.34035188 0.30693569 0.32550564 0.32791852 0.32335007 0.31420346\n",
            " 0.3231316  0.32599598 0.32334521 0.32414627 0.34073056 0.34184233\n",
            " 0.33265203 0.31870394 0.29836196 0.32083038 0.3368418  0.32805445\n",
            " 0.32577266 0.32686015 0.33229277 0.32551535 0.30384313 0.30716387\n",
            " 0.30932915 0.29966793 0.30060492 0.29537621 0.29242443 0.25999379\n",
            " 0.25239103 0.27335444 0.24432221 0.24105972 0.26190176 0.24637097\n",
            " 0.23023333 0.2148142  0.20341007 0.18644224 0.24012759 0.23744769\n",
            " 0.25276    0.24991018 0.25680898 0.2417297  0.25383293 0.23021391\n",
            " 0.23104409 0.23838954 0.23458331 0.21910107 0.22401422 0.21348882\n",
            " 0.20988649 0.22169843 0.23738458 0.23438425 0.24860907 0.2488858\n",
            " 0.23886046 0.24508928 0.24179767 0.25391547 0.28320986 0.2686015\n",
            " 0.27181544 0.27226694 0.2600569  0.26217363 0.27437396 0.26251347\n",
            " 0.26722757 0.27149987 0.25525542 0.25023546 0.24178796 0.21283275\n",
            " 0.19574957 0.17705275 0.16013519 0.14601849 0.13489285 0.12658691\n",
            " 0.12070899 0.11674363 0.11413983 0.11238257 0.11104047 0.10979006\n",
            " 0.10842066 0.10682435 0.10497689 0.10291407]\n",
            "17 day output [[0.10070799]]\n",
            " 18 day input [0.25570692 0.2674072  0.26999971 0.28013186 0.30929031 0.34035188\n",
            " 0.30693569 0.32550564 0.32791852 0.32335007 0.31420346 0.3231316\n",
            " 0.32599598 0.32334521 0.32414627 0.34073056 0.34184233 0.33265203\n",
            " 0.31870394 0.29836196 0.32083038 0.3368418  0.32805445 0.32577266\n",
            " 0.32686015 0.33229277 0.32551535 0.30384313 0.30716387 0.30932915\n",
            " 0.29966793 0.30060492 0.29537621 0.29242443 0.25999379 0.25239103\n",
            " 0.27335444 0.24432221 0.24105972 0.26190176 0.24637097 0.23023333\n",
            " 0.2148142  0.20341007 0.18644224 0.24012759 0.23744769 0.25276\n",
            " 0.24991018 0.25680898 0.2417297  0.25383293 0.23021391 0.23104409\n",
            " 0.23838954 0.23458331 0.21910107 0.22401422 0.21348882 0.20988649\n",
            " 0.22169843 0.23738458 0.23438425 0.24860907 0.2488858  0.23886046\n",
            " 0.24508928 0.24179767 0.25391547 0.28320986 0.2686015  0.27181544\n",
            " 0.27226694 0.2600569  0.26217363 0.27437396 0.26251347 0.26722757\n",
            " 0.27149987 0.25525542 0.25023546 0.24178796 0.21283275 0.19574957\n",
            " 0.17705275 0.16013519 0.14601849 0.13489285 0.12658691 0.12070899\n",
            " 0.11674363 0.11413983 0.11238257 0.11104047 0.10979006 0.10842066\n",
            " 0.10682435 0.10497689 0.10291407 0.10070799]\n",
            "18 day output [[0.09844555]]\n",
            " 19 day input [0.2674072  0.26999971 0.28013186 0.30929031 0.34035188 0.30693569\n",
            " 0.32550564 0.32791852 0.32335007 0.31420346 0.3231316  0.32599598\n",
            " 0.32334521 0.32414627 0.34073056 0.34184233 0.33265203 0.31870394\n",
            " 0.29836196 0.32083038 0.3368418  0.32805445 0.32577266 0.32686015\n",
            " 0.33229277 0.32551535 0.30384313 0.30716387 0.30932915 0.29966793\n",
            " 0.30060492 0.29537621 0.29242443 0.25999379 0.25239103 0.27335444\n",
            " 0.24432221 0.24105972 0.26190176 0.24637097 0.23023333 0.2148142\n",
            " 0.20341007 0.18644224 0.24012759 0.23744769 0.25276    0.24991018\n",
            " 0.25680898 0.2417297  0.25383293 0.23021391 0.23104409 0.23838954\n",
            " 0.23458331 0.21910107 0.22401422 0.21348882 0.20988649 0.22169843\n",
            " 0.23738458 0.23438425 0.24860907 0.2488858  0.23886046 0.24508928\n",
            " 0.24179767 0.25391547 0.28320986 0.2686015  0.27181544 0.27226694\n",
            " 0.2600569  0.26217363 0.27437396 0.26251347 0.26722757 0.27149987\n",
            " 0.25525542 0.25023546 0.24178796 0.21283275 0.19574957 0.17705275\n",
            " 0.16013519 0.14601849 0.13489285 0.12658691 0.12070899 0.11674363\n",
            " 0.11413983 0.11238257 0.11104047 0.10979006 0.10842066 0.10682435\n",
            " 0.10497689 0.10291407 0.10070799 0.09844555]\n",
            "19 day output [[0.09621189]]\n",
            " 20 day input [0.26999971 0.28013186 0.30929031 0.34035188 0.30693569 0.32550564\n",
            " 0.32791852 0.32335007 0.31420346 0.3231316  0.32599598 0.32334521\n",
            " 0.32414627 0.34073056 0.34184233 0.33265203 0.31870394 0.29836196\n",
            " 0.32083038 0.3368418  0.32805445 0.32577266 0.32686015 0.33229277\n",
            " 0.32551535 0.30384313 0.30716387 0.30932915 0.29966793 0.30060492\n",
            " 0.29537621 0.29242443 0.25999379 0.25239103 0.27335444 0.24432221\n",
            " 0.24105972 0.26190176 0.24637097 0.23023333 0.2148142  0.20341007\n",
            " 0.18644224 0.24012759 0.23744769 0.25276    0.24991018 0.25680898\n",
            " 0.2417297  0.25383293 0.23021391 0.23104409 0.23838954 0.23458331\n",
            " 0.21910107 0.22401422 0.21348882 0.20988649 0.22169843 0.23738458\n",
            " 0.23438425 0.24860907 0.2488858  0.23886046 0.24508928 0.24179767\n",
            " 0.25391547 0.28320986 0.2686015  0.27181544 0.27226694 0.2600569\n",
            " 0.26217363 0.27437396 0.26251347 0.26722757 0.27149987 0.25525542\n",
            " 0.25023546 0.24178796 0.21283275 0.19574957 0.17705275 0.16013519\n",
            " 0.14601849 0.13489285 0.12658691 0.12070899 0.11674363 0.11413983\n",
            " 0.11238257 0.11104047 0.10979006 0.10842066 0.10682435 0.10497689\n",
            " 0.10291407 0.10070799 0.09844555 0.09621189]\n",
            "20 day output [[0.09407876]]\n",
            " 21 day input [0.28013186 0.30929031 0.34035188 0.30693569 0.32550564 0.32791852\n",
            " 0.32335007 0.31420346 0.3231316  0.32599598 0.32334521 0.32414627\n",
            " 0.34073056 0.34184233 0.33265203 0.31870394 0.29836196 0.32083038\n",
            " 0.3368418  0.32805445 0.32577266 0.32686015 0.33229277 0.32551535\n",
            " 0.30384313 0.30716387 0.30932915 0.29966793 0.30060492 0.29537621\n",
            " 0.29242443 0.25999379 0.25239103 0.27335444 0.24432221 0.24105972\n",
            " 0.26190176 0.24637097 0.23023333 0.2148142  0.20341007 0.18644224\n",
            " 0.24012759 0.23744769 0.25276    0.24991018 0.25680898 0.2417297\n",
            " 0.25383293 0.23021391 0.23104409 0.23838954 0.23458331 0.21910107\n",
            " 0.22401422 0.21348882 0.20988649 0.22169843 0.23738458 0.23438425\n",
            " 0.24860907 0.2488858  0.23886046 0.24508928 0.24179767 0.25391547\n",
            " 0.28320986 0.2686015  0.27181544 0.27226694 0.2600569  0.26217363\n",
            " 0.27437396 0.26251347 0.26722757 0.27149987 0.25525542 0.25023546\n",
            " 0.24178796 0.21283275 0.19574957 0.17705275 0.16013519 0.14601849\n",
            " 0.13489285 0.12658691 0.12070899 0.11674363 0.11413983 0.11238257\n",
            " 0.11104047 0.10979006 0.10842066 0.10682435 0.10497689 0.10291407\n",
            " 0.10070799 0.09844555 0.09621189 0.09407876]\n",
            "21 day output [[0.09209818]]\n",
            " 22 day input [0.30929031 0.34035188 0.30693569 0.32550564 0.32791852 0.32335007\n",
            " 0.31420346 0.3231316  0.32599598 0.32334521 0.32414627 0.34073056\n",
            " 0.34184233 0.33265203 0.31870394 0.29836196 0.32083038 0.3368418\n",
            " 0.32805445 0.32577266 0.32686015 0.33229277 0.32551535 0.30384313\n",
            " 0.30716387 0.30932915 0.29966793 0.30060492 0.29537621 0.29242443\n",
            " 0.25999379 0.25239103 0.27335444 0.24432221 0.24105972 0.26190176\n",
            " 0.24637097 0.23023333 0.2148142  0.20341007 0.18644224 0.24012759\n",
            " 0.23744769 0.25276    0.24991018 0.25680898 0.2417297  0.25383293\n",
            " 0.23021391 0.23104409 0.23838954 0.23458331 0.21910107 0.22401422\n",
            " 0.21348882 0.20988649 0.22169843 0.23738458 0.23438425 0.24860907\n",
            " 0.2488858  0.23886046 0.24508928 0.24179767 0.25391547 0.28320986\n",
            " 0.2686015  0.27181544 0.27226694 0.2600569  0.26217363 0.27437396\n",
            " 0.26251347 0.26722757 0.27149987 0.25525542 0.25023546 0.24178796\n",
            " 0.21283275 0.19574957 0.17705275 0.16013519 0.14601849 0.13489285\n",
            " 0.12658691 0.12070899 0.11674363 0.11413983 0.11238257 0.11104047\n",
            " 0.10979006 0.10842066 0.10682435 0.10497689 0.10291407 0.10070799\n",
            " 0.09844555 0.09621189 0.09407876 0.09209818]\n",
            "22 day output [[0.09030055]]\n",
            " 23 day input [0.34035188 0.30693569 0.32550564 0.32791852 0.32335007 0.31420346\n",
            " 0.3231316  0.32599598 0.32334521 0.32414627 0.34073056 0.34184233\n",
            " 0.33265203 0.31870394 0.29836196 0.32083038 0.3368418  0.32805445\n",
            " 0.32577266 0.32686015 0.33229277 0.32551535 0.30384313 0.30716387\n",
            " 0.30932915 0.29966793 0.30060492 0.29537621 0.29242443 0.25999379\n",
            " 0.25239103 0.27335444 0.24432221 0.24105972 0.26190176 0.24637097\n",
            " 0.23023333 0.2148142  0.20341007 0.18644224 0.24012759 0.23744769\n",
            " 0.25276    0.24991018 0.25680898 0.2417297  0.25383293 0.23021391\n",
            " 0.23104409 0.23838954 0.23458331 0.21910107 0.22401422 0.21348882\n",
            " 0.20988649 0.22169843 0.23738458 0.23438425 0.24860907 0.2488858\n",
            " 0.23886046 0.24508928 0.24179767 0.25391547 0.28320986 0.2686015\n",
            " 0.27181544 0.27226694 0.2600569  0.26217363 0.27437396 0.26251347\n",
            " 0.26722757 0.27149987 0.25525542 0.25023546 0.24178796 0.21283275\n",
            " 0.19574957 0.17705275 0.16013519 0.14601849 0.13489285 0.12658691\n",
            " 0.12070899 0.11674363 0.11413983 0.11238257 0.11104047 0.10979006\n",
            " 0.10842066 0.10682435 0.10497689 0.10291407 0.10070799 0.09844555\n",
            " 0.09621189 0.09407876 0.09209818 0.09030055]\n",
            "23 day output [[0.08869616]]\n",
            " 24 day input [0.30693569 0.32550564 0.32791852 0.32335007 0.31420346 0.3231316\n",
            " 0.32599598 0.32334521 0.32414627 0.34073056 0.34184233 0.33265203\n",
            " 0.31870394 0.29836196 0.32083038 0.3368418  0.32805445 0.32577266\n",
            " 0.32686015 0.33229277 0.32551535 0.30384313 0.30716387 0.30932915\n",
            " 0.29966793 0.30060492 0.29537621 0.29242443 0.25999379 0.25239103\n",
            " 0.27335444 0.24432221 0.24105972 0.26190176 0.24637097 0.23023333\n",
            " 0.2148142  0.20341007 0.18644224 0.24012759 0.23744769 0.25276\n",
            " 0.24991018 0.25680898 0.2417297  0.25383293 0.23021391 0.23104409\n",
            " 0.23838954 0.23458331 0.21910107 0.22401422 0.21348882 0.20988649\n",
            " 0.22169843 0.23738458 0.23438425 0.24860907 0.2488858  0.23886046\n",
            " 0.24508928 0.24179767 0.25391547 0.28320986 0.2686015  0.27181544\n",
            " 0.27226694 0.2600569  0.26217363 0.27437396 0.26251347 0.26722757\n",
            " 0.27149987 0.25525542 0.25023546 0.24178796 0.21283275 0.19574957\n",
            " 0.17705275 0.16013519 0.14601849 0.13489285 0.12658691 0.12070899\n",
            " 0.11674363 0.11413983 0.11238257 0.11104047 0.10979006 0.10842066\n",
            " 0.10682435 0.10497689 0.10291407 0.10070799 0.09844555 0.09621189\n",
            " 0.09407876 0.09209818 0.09030055 0.08869616]\n",
            "24 day output [[0.08727877]]\n",
            " 25 day input [0.32550564 0.32791852 0.32335007 0.31420346 0.3231316  0.32599598\n",
            " 0.32334521 0.32414627 0.34073056 0.34184233 0.33265203 0.31870394\n",
            " 0.29836196 0.32083038 0.3368418  0.32805445 0.32577266 0.32686015\n",
            " 0.33229277 0.32551535 0.30384313 0.30716387 0.30932915 0.29966793\n",
            " 0.30060492 0.29537621 0.29242443 0.25999379 0.25239103 0.27335444\n",
            " 0.24432221 0.24105972 0.26190176 0.24637097 0.23023333 0.2148142\n",
            " 0.20341007 0.18644224 0.24012759 0.23744769 0.25276    0.24991018\n",
            " 0.25680898 0.2417297  0.25383293 0.23021391 0.23104409 0.23838954\n",
            " 0.23458331 0.21910107 0.22401422 0.21348882 0.20988649 0.22169843\n",
            " 0.23738458 0.23438425 0.24860907 0.2488858  0.23886046 0.24508928\n",
            " 0.24179767 0.25391547 0.28320986 0.2686015  0.27181544 0.27226694\n",
            " 0.2600569  0.26217363 0.27437396 0.26251347 0.26722757 0.27149987\n",
            " 0.25525542 0.25023546 0.24178796 0.21283275 0.19574957 0.17705275\n",
            " 0.16013519 0.14601849 0.13489285 0.12658691 0.12070899 0.11674363\n",
            " 0.11413983 0.11238257 0.11104047 0.10979006 0.10842066 0.10682435\n",
            " 0.10497689 0.10291407 0.10070799 0.09844555 0.09621189 0.09407876\n",
            " 0.09209818 0.09030055 0.08869616 0.08727877]\n",
            "25 day output [[0.08603042]]\n",
            " 26 day input [0.32791852 0.32335007 0.31420346 0.3231316  0.32599598 0.32334521\n",
            " 0.32414627 0.34073056 0.34184233 0.33265203 0.31870394 0.29836196\n",
            " 0.32083038 0.3368418  0.32805445 0.32577266 0.32686015 0.33229277\n",
            " 0.32551535 0.30384313 0.30716387 0.30932915 0.29966793 0.30060492\n",
            " 0.29537621 0.29242443 0.25999379 0.25239103 0.27335444 0.24432221\n",
            " 0.24105972 0.26190176 0.24637097 0.23023333 0.2148142  0.20341007\n",
            " 0.18644224 0.24012759 0.23744769 0.25276    0.24991018 0.25680898\n",
            " 0.2417297  0.25383293 0.23021391 0.23104409 0.23838954 0.23458331\n",
            " 0.21910107 0.22401422 0.21348882 0.20988649 0.22169843 0.23738458\n",
            " 0.23438425 0.24860907 0.2488858  0.23886046 0.24508928 0.24179767\n",
            " 0.25391547 0.28320986 0.2686015  0.27181544 0.27226694 0.2600569\n",
            " 0.26217363 0.27437396 0.26251347 0.26722757 0.27149987 0.25525542\n",
            " 0.25023546 0.24178796 0.21283275 0.19574957 0.17705275 0.16013519\n",
            " 0.14601849 0.13489285 0.12658691 0.12070899 0.11674363 0.11413983\n",
            " 0.11238257 0.11104047 0.10979006 0.10842066 0.10682435 0.10497689\n",
            " 0.10291407 0.10070799 0.09844555 0.09621189 0.09407876 0.09209818\n",
            " 0.09030055 0.08869616 0.08727877 0.08603042]\n",
            "26 day output [[0.08492631]]\n",
            " 27 day input [0.32335007 0.31420346 0.3231316  0.32599598 0.32334521 0.32414627\n",
            " 0.34073056 0.34184233 0.33265203 0.31870394 0.29836196 0.32083038\n",
            " 0.3368418  0.32805445 0.32577266 0.32686015 0.33229277 0.32551535\n",
            " 0.30384313 0.30716387 0.30932915 0.29966793 0.30060492 0.29537621\n",
            " 0.29242443 0.25999379 0.25239103 0.27335444 0.24432221 0.24105972\n",
            " 0.26190176 0.24637097 0.23023333 0.2148142  0.20341007 0.18644224\n",
            " 0.24012759 0.23744769 0.25276    0.24991018 0.25680898 0.2417297\n",
            " 0.25383293 0.23021391 0.23104409 0.23838954 0.23458331 0.21910107\n",
            " 0.22401422 0.21348882 0.20988649 0.22169843 0.23738458 0.23438425\n",
            " 0.24860907 0.2488858  0.23886046 0.24508928 0.24179767 0.25391547\n",
            " 0.28320986 0.2686015  0.27181544 0.27226694 0.2600569  0.26217363\n",
            " 0.27437396 0.26251347 0.26722757 0.27149987 0.25525542 0.25023546\n",
            " 0.24178796 0.21283275 0.19574957 0.17705275 0.16013519 0.14601849\n",
            " 0.13489285 0.12658691 0.12070899 0.11674363 0.11413983 0.11238257\n",
            " 0.11104047 0.10979006 0.10842066 0.10682435 0.10497689 0.10291407\n",
            " 0.10070799 0.09844555 0.09621189 0.09407876 0.09209818 0.09030055\n",
            " 0.08869616 0.08727877 0.08603042 0.08492631]\n",
            "27 day output [[0.08393919]]\n",
            " 28 day input [0.31420346 0.3231316  0.32599598 0.32334521 0.32414627 0.34073056\n",
            " 0.34184233 0.33265203 0.31870394 0.29836196 0.32083038 0.3368418\n",
            " 0.32805445 0.32577266 0.32686015 0.33229277 0.32551535 0.30384313\n",
            " 0.30716387 0.30932915 0.29966793 0.30060492 0.29537621 0.29242443\n",
            " 0.25999379 0.25239103 0.27335444 0.24432221 0.24105972 0.26190176\n",
            " 0.24637097 0.23023333 0.2148142  0.20341007 0.18644224 0.24012759\n",
            " 0.23744769 0.25276    0.24991018 0.25680898 0.2417297  0.25383293\n",
            " 0.23021391 0.23104409 0.23838954 0.23458331 0.21910107 0.22401422\n",
            " 0.21348882 0.20988649 0.22169843 0.23738458 0.23438425 0.24860907\n",
            " 0.2488858  0.23886046 0.24508928 0.24179767 0.25391547 0.28320986\n",
            " 0.2686015  0.27181544 0.27226694 0.2600569  0.26217363 0.27437396\n",
            " 0.26251347 0.26722757 0.27149987 0.25525542 0.25023546 0.24178796\n",
            " 0.21283275 0.19574957 0.17705275 0.16013519 0.14601849 0.13489285\n",
            " 0.12658691 0.12070899 0.11674363 0.11413983 0.11238257 0.11104047\n",
            " 0.10979006 0.10842066 0.10682435 0.10497689 0.10291407 0.10070799\n",
            " 0.09844555 0.09621189 0.09407876 0.09209818 0.09030055 0.08869616\n",
            " 0.08727877 0.08603042 0.08492631 0.08393919]\n",
            "28 day output [[0.08304274]]\n",
            " 29 day input [0.3231316  0.32599598 0.32334521 0.32414627 0.34073056 0.34184233\n",
            " 0.33265203 0.31870394 0.29836196 0.32083038 0.3368418  0.32805445\n",
            " 0.32577266 0.32686015 0.33229277 0.32551535 0.30384313 0.30716387\n",
            " 0.30932915 0.29966793 0.30060492 0.29537621 0.29242443 0.25999379\n",
            " 0.25239103 0.27335444 0.24432221 0.24105972 0.26190176 0.24637097\n",
            " 0.23023333 0.2148142  0.20341007 0.18644224 0.24012759 0.23744769\n",
            " 0.25276    0.24991018 0.25680898 0.2417297  0.25383293 0.23021391\n",
            " 0.23104409 0.23838954 0.23458331 0.21910107 0.22401422 0.21348882\n",
            " 0.20988649 0.22169843 0.23738458 0.23438425 0.24860907 0.2488858\n",
            " 0.23886046 0.24508928 0.24179767 0.25391547 0.28320986 0.2686015\n",
            " 0.27181544 0.27226694 0.2600569  0.26217363 0.27437396 0.26251347\n",
            " 0.26722757 0.27149987 0.25525542 0.25023546 0.24178796 0.21283275\n",
            " 0.19574957 0.17705275 0.16013519 0.14601849 0.13489285 0.12658691\n",
            " 0.12070899 0.11674363 0.11413983 0.11238257 0.11104047 0.10979006\n",
            " 0.10842066 0.10682435 0.10497689 0.10291407 0.10070799 0.09844555\n",
            " 0.09621189 0.09407876 0.09209818 0.09030055 0.08869616 0.08727877\n",
            " 0.08603042 0.08492631 0.08393919 0.08304274]\n",
            "29 day output [[0.08221406]]\n",
            "[[0.2128327488899231], [0.19574956595897675], [0.17705275118350983], [0.1601351946592331], [0.14601849019527435], [0.13489285111427307], [0.1265869140625], [0.12070899456739426], [0.11674363166093826], [0.11413983255624771], [0.11238256841897964], [0.11104046553373337], [0.10979005694389343], [0.10842066258192062], [0.1068243533372879], [0.10497688502073288], [0.10291407257318497], [0.10070798546075821], [0.09844554960727692], [0.09621188789606094], [0.09407875686883926], [0.0920981764793396], [0.090300552546978], [0.08869615942239761], [0.08727876842021942], [0.08603042364120483], [0.0849263146519661], [0.08393919467926025], [0.08304274082183838], [0.08221406489610672]]\n"
          ],
          "name": "stdout"
        }
      ]
    },
    {
      "cell_type": "code",
      "metadata": {
        "id": "LDe8nXwFb66F"
      },
      "source": [
        "day_new = np.arange(1,101)\n",
        "day_pred = np.arange(101, 131)"
      ],
      "execution_count": 47,
      "outputs": []
    },
    {
      "cell_type": "code",
      "metadata": {
        "id": "Y9A73GTfcCw2"
      },
      "source": [
        "import matplotlib.pyplot as plt"
      ],
      "execution_count": 48,
      "outputs": []
    },
    {
      "cell_type": "code",
      "metadata": {
        "colab": {
          "base_uri": "https://localhost:8080/"
        },
        "id": "cI618_5ucEb5",
        "outputId": "32f71056-94ba-4fb3-8e53-613edab65319"
      },
      "source": [
        "len(df1)"
      ],
      "execution_count": 49,
      "outputs": [
        {
          "output_type": "execute_result",
          "data": {
            "text/plain": [
              "1258"
            ]
          },
          "metadata": {
            "tags": []
          },
          "execution_count": 49
        }
      ]
    },
    {
      "cell_type": "code",
      "metadata": {
        "colab": {
          "base_uri": "https://localhost:8080/",
          "height": 283
        },
        "id": "co5Y5_QDcFOf",
        "outputId": "730603b0-f4d6-47be-da2d-44d2f27a615e"
      },
      "source": [
        "plt.plot(day_new, scaler.inverse_transform(df1[1158:]))\n",
        "plt.plot(day_pred, scaler.inverse_transform(lst_output))"
      ],
      "execution_count": 50,
      "outputs": [
        {
          "output_type": "execute_result",
          "data": {
            "text/plain": [
              "[<matplotlib.lines.Line2D at 0x7fe8e442aad0>]"
            ]
          },
          "metadata": {
            "tags": []
          },
          "execution_count": 50
        },
        {
          "output_type": "display_data",
          "data": {
            "image/png": "[encoded data removed]",
            "text/plain": [
              "<Figure size 432x288 with 1 Axes>"
            ]
          },
          "metadata": {
            "tags": [],
            "needs_background": "light"
          }
        }
      ]
    },
    {
      "cell_type": "code",
      "metadata": {
        "colab": {
          "base_uri": "https://localhost:8080/",
          "height": 282
        },
        "id": "YI5Cpn2tcPaN",
        "outputId": "b0820841-1836-41e6-aa18-0f960bba867c"
      },
      "source": [
        "df3 = df1.tolist()\n",
        "df3.extend(lst_output)\n",
        "plt.plot(df3[1200:])"
      ],
      "execution_count": 51,
      "outputs": [
        {
          "output_type": "execute_result",
          "data": {
            "text/plain": [
              "[<matplotlib.lines.Line2D at 0x7fe8e4373cd0>]"
            ]
          },
          "metadata": {
            "tags": []
          },
          "execution_count": 51
        },
        {
          "output_type": "display_data",
          "data": {
            "image/png": "[encoded data removed]",
            "text/plain": [
              "<Figure size 432x288 with 1 Axes>"
            ]
          },
          "metadata": {
            "tags": [],
            "needs_background": "light"
          }
        }
      ]
    },
    {
      "cell_type": "code",
      "metadata": {
        "id": "psB3QUYRcWXN"
      },
      "source": [
        "df3=scaler.inverse_transform(df3).tolist()"
      ],
      "execution_count": 52,
      "outputs": []
    },
    {
      "cell_type": "code",
      "metadata": {
        "colab": {
          "base_uri": "https://localhost:8080/",
          "height": 282
        },
        "id": "_pu7FhVVcZIt",
        "outputId": "3af51d4b-82c6-4dd1-c2cb-45037a1af339"
      },
      "source": [
        "plt.plot(df3)\n"
      ],
      "execution_count": 53,
      "outputs": [
        {
          "output_type": "execute_result",
          "data": {
            "text/plain": [
              "[<matplotlib.lines.Line2D at 0x7fe8e4358310>]"
            ]
          },
          "metadata": {
            "tags": []
          },
          "execution_count": 53
        },
        {
          "output_type": "display_data",
          "data": {
            "image/png": "[encoded data removed]",
            "text/plain": [
              "<Figure size 432x288 with 1 Axes>"
            ]
          },
          "metadata": {
            "tags": [],
            "needs_background": "light"
          }
        }
      ]
    },
    {
      "cell_type": "code",
      "metadata": {
        "id": "bF08Y6ZvcaNZ"
      },
      "source": [
        ""
      ],
      "execution_count": null,
      "outputs": []
    }
  ]
}